{
  "nbformat": 4,
  "nbformat_minor": 0,
  "metadata": {
    "colab": {
      "provenance": [],
      "toc_visible": true,
      "authorship_tag": "ABX9TyPOGXhG2DfpA2sG3reughT9",
      "include_colab_link": true
    },
    "kernelspec": {
      "name": "python3",
      "display_name": "Python 3"
    },
    "language_info": {
      "name": "python"
    }
  },
  "cells": [
    {
      "cell_type": "markdown",
      "metadata": {
        "id": "view-in-github",
        "colab_type": "text"
      },
      "source": [
        "<a href=\"https://colab.research.google.com/github/diegoaguiardsa/Estatistica__Python/blob/main/Medidas_Descritivas.ipynb\" target=\"_parent\"><img src=\"https://colab.research.google.com/assets/colab-badge.svg\" alt=\"Open In Colab\"/></a>"
      ]
    },
    {
      "cell_type": "markdown",
      "source": [
        "# **Medidas Descritivas**\n",
        "Autor: Diego Aguiar"
      ],
      "metadata": {
        "id": "Y_NqzpijDI5c"
      }
    },
    {
      "cell_type": "markdown",
      "source": [
        "## Introdução\n",
        "\n"
      ],
      "metadata": {
        "id": "v6PYH8z11eTn"
      }
    },
    {
      "cell_type": "markdown",
      "source": [
        "Às vezes é necessário resumir certas características das distribuições de dados (ou mesmo de frequências dados) por meio de certas quantidades.\n",
        "\n",
        "Tais quantidades são usualmente denominadas de Medidas, por quantificarem alguns aspectos de nosso interesse.\n",
        "\n",
        "Nosso objetivo é apresentar algumas das chamadas **Medidas de Posição** bem como, algumas **Medidas de Dispersão** consideradas mais importantes no campo da aplicabilidade prática do nosso dia a dia.\n",
        "\n",
        "Tais medidas servem para:\n",
        "\n",
        "*   Localizar uma distribuição\n",
        "*   Caracterizar sua variabilidade"
      ],
      "metadata": {
        "id": "vf2x-8O23cVm"
      }
    },
    {
      "cell_type": "markdown",
      "source": [
        "## Medidas De Posição\n"
      ],
      "metadata": {
        "id": "roGc_YPY4OVj"
      }
    },
    {
      "cell_type": "markdown",
      "source": [
        "Servem para localizar a distribuição dos dados brutos (ou das\n",
        "frequências sobre o eixo de variação da variável em questão. As medidas de posição podem ser de tendência central ou separatrizes.\n",
        "Os três tipos principais de medidas de tendência:\n",
        "\n",
        "* Média\n",
        "* Mediana\n",
        "* Moda\n",
        "\n",
        "As medidas separatrizes podem ser:\n",
        "\n",
        "* Quartil\n",
        "* Percentil\n",
        "\n",
        "\n",
        "\n"
      ],
      "metadata": {
        "id": "dJSPk3m-414k"
      }
    },
    {
      "cell_type": "markdown",
      "source": [
        "### Média Arimética"
      ],
      "metadata": {
        "id": "pK0os22b5yvq"
      }
    },
    {
      "cell_type": "markdown",
      "source": [
        "Se os dados consistem de *n* observações *x1,x2,x3,…,xn* a\n",
        "média é dada pela soma das observações dividida pelo o número de observações.\n",
        "\n",
        "![image.png](data:image/png;base64,iVBORw0KGgoAAAANSUhEUgAAAKEAAABzCAYAAADwp2KSAAAJ7UlEQVR4nO3df2wT5xkH8K/djDKWMtZtKpdQgYhL+kcYWh11a4uQk4GDBlWjZAh1gwQ5f5AJKpY0CTV0HaUoKTgzQgKVqnIaAuoEmi00igZBTrMqDIXZVSnRgkOI0uH4imAtSTwKIfGzP2InJOVHbN/x3uHnI1kiAc6Pz1/fPX7vvTsDEVGFZzkYEyUt9ofdRSdE1sFSmFF0AYxxCJlwHEImHIeQCcchZMJxCJlwHEI1hC/As7kABkMG8urPYkA+jd2lC2EwGGDI2w1/OCK6Qk3hECruJrqOfABfwR60O7LR6qzAK1WtWPRuO0Lu9UDr3/BJ4IboIjWFQ6i46Vhg+zNq83+A4PnLAH6O13ZVI18yYvD61wCyMT9juugiNYVDqJaBi2g/dQnS2iIszZwGIIxgoAewPo+cp9Ie+N9TCYdQJcMXP4NbNmNtwc8wEwAGvsDJg35kLVuE+bzWJ+DVoYqb6Dl3FpcwH9lz0gHEQpmFl+Y/ju6G17Gl5ZrgGrWDQ6iK2K53ORabRvu/tOwlKLfcQFPx6/jwsdV4zfITwTVqhyE2lYtn0TBReEvIhOMQMuE4hEw4DmHcLsNTaho9BKfGw1QP/7Do1/hwcQjj9jQKa3fBJsV+lmCxNyM0QiBK7DESaoOzJEfkixKKQ5gAY+ZKbN+7AaM5lNFaV4k3j36JRKclGKWXsGlrBazKlagrHMKETENmoR2H7LHYdKBhowNH+4YSXqLR9CJWW6UH/8NHEIcwUcZM5G95Bw5LNDjyPhSv2Zf4NC3jPCxevVi5+nSEQ5iM9FyUv1eHktgGrNWBqv0+hBNa2HQssB0BdVfBnGLzGziESTEi/dlXUXtnf1i9Hfv91wXXpS8cwqRNQ2ZhNfbaYt9uj6P65TfhSaI/TDUcQiUY56Joj2tCf7jxrY/Rx7P4p4RDqJT0XJTXV8MS/VFu+BO2NHYk2B+mFg6hYoxIN2/AIXesP+xAU9kb3B9OAYdQUXfpD6s+5LPrHkA3IRz218N0z2Oueaj3a2THZ5yLwh1O2GP9YWslXt50VLn+MNyBhtjpowYDDIZyeORhfPeYduz3OkBE9Ad3ATEljdCgz0kWgAAQkEM2dy+NKLX0oJtsEghYQQ7fN+N/EXJTCUCQSsjZHlLs+dSmmy2hvhiRbi7Dey7bWH+Y7GG9CUvPXILfrTUDmIEnn4idPjqEvjMtOIUVcBzbg4rnJd3s5vRSpw7NxLPr3hrvD5M9rDfBk8gtsEJCGw639SKCCML+fVhTfBHrvO+j0jxLged4iIi0vjvup0Czk0qkSbu1kRC1O0tIgkQWRzsNii7zHsZ3nSAoWetgOzksEsHqos7/uMkm5VCJ67xm18P9aD6EIwEXrShppM7QmbGVHhj5hnyOwim+oYPkc1iiIZjaI8vho9vKvYKJ/WGWg3yKLPxbCrhWjfWceg0gkQ5COC4Wpt+Sw2Unq81NQb103nSVvDVmAkCSYnWPUL/XThIQ/WAqsUwxdNQTzsAzz70ACR+h+uDj2LxjJTJ1UX0E4QvHceCgH7BswyGF6o70HUXFmjrIAHC+G0Edj0Xq4m0cZUT6HBMWAshasRJLpGmiC5qasA/7f29Hk7wCjvpNyFei7vBZONfUoKfyDIJeOyS5ETv/2nWPmd3DkD3l2hpLnUQ/IYz0obXxMJoBXDp1Dj1T/uCH4a/Pi+tkI1O9H4oM80b60FL7R1S3/hglrndRrsS31nAHGjaUwTl/Fw5V/hKZuUuxVpLRfPif6L7rOrmJUE8AkF7Ac8/MSP751UCkh57wFgXdm8hqbyRXpZmA9eQOKffVQR23KOjeQJKSfeBIkLx2K8HiJN9gbIGxfnMVuQLfKvAkD58OQniLQt5tZC1ppM7BWxRyr48O1QQo6N1G1hov9Ysu8TtGaLCzcXRYybKNvKFbCiyznzpdNpJgphrv1Tt+P/4tWZq8LmJHUCCR1dWp2SMoGg7h+Lc/qWQvtcfeyNj4GCSy1LgpMKjBVTtW46TDaokaGxONjjXamyk0OlhKgwE31Vik6FCNleze4ISw3fY5KAsWcvi0O4Cj4RDqVGyXqYmxu9ujew7JTt5+DX5Yo/TzxUQXhtB3tA5r6poh2d5G7bocpAut5zo6233AQhPmpGv3rdZuZboTQfjCX7Bl4z7ICo4HJmXgC5w8GIJ19Yswia7lPjRcms6oMR6YpMhXvfhcnoHZs4bRpeGrw3IIlaDGeKACjBk5WGa5gabiV1HXX6Tdq8MS8ReT5KgwHphieEuYFGX7wEhXAwoMJpR6LitXog5wCJOhaB84jCsdZ9GsWHH6wSFMlOJ9YHQ4BbMwe9b3lahQNziECVF6PHAAXR4n3tnlB/AEfvrD1LrtWIpd/0kJd/SBANBQjDkNomvSN94SxmusD1TrCVLvBowcwjgNBz7F/lbVEpiSeHccpzRzFbqpSnQZjxTeEjLhOIRMOA5hUrR/EpEecAiTosBJRBEZfk89SjN0dBUthXEIk5IOc9UnoFAt8mfGuyqHIPsPYvOvzMgtrlZxyEf7OISJkj0oNRhgMGSgoOFC/HdzivwXoeDTKDvWi5B7vRoV6gaHMFFSEVw+B7KQjWWL5oyuyGE/6k0POK+51DN6pMUowfyKBQs0PO3+YeFxwoQN4+qX3bh0Zz+YZkZVN4FHEePDH8OE6eMkIj3gtZeou51EFM/umI3hECboricRRXfHdL/7Gx8owoR7eUb6cOb4aQBB9IRSc6yRQ5ig5E8iil5t/7F5KG7oAHAc1bk/SsmBbwMRUYVnOXYXnRBdC0tRvCVkwnEImXAcQiYch5AJxyFkwnEImXAcQiYch5AJxyFkwnEImXAcQiYchzBmbLp+qjy0c2IVz6yOkYpwgAgHRNeRgnhLyITjEDLhOIRMOA4hE45DyITjEDLhOIRMOA4hE45DyITjEDLhOIRMOA4hE45DqIKIfBq7SxfCYDAgo/QALoSHEe7yYHNexugMlry30SIPiS5TMziEShtogX3dcczdegI+hwVyUzM+PrIdG1xA2bFuBFyrgNb3sfPvPfFf3fURxVO5lDYzHztP5gO4hpargwA+gvO0G//6oAiZxggG5pkgoU10lZrCW0K1RK6h9/MQgFXYsfnX0ZtxD+Gr3m7Id15imPF6UM2Vf+MfzTKkmnL8ZkH0homRXrQdbkvulhOPIA6hKiIY6PThFCQszM4YvxdyLJhrlyI37ltOPLp4TajiBi5+dmbSbvcewWQcQlVEgjh3avKdniL43/WvIWMGZs/6Hq6c3YfSMr5+NcAhVEc4hMB5edKV/dPw1C+ssEmX0FRciDc+NWHrnsKJ169OUXy5YCYcbwmZcBxCJhyHkAnHIWTCcQiZcBxCJhyHkAnHIWTCjc0nrPAsF1kHS2H/B0xxgIXR6rLXAAAAAElFTkSuQmCC)"
      ],
      "metadata": {
        "id": "Nb4amSGn6G_0"
      }
    },
    {
      "cell_type": "markdown",
      "source": [
        "#### Função em Python"
      ],
      "metadata": {
        "id": "edVy96_57lt6"
      }
    },
    {
      "cell_type": "code",
      "source": [
        "# Função para calcular Média\n",
        "def calcular_media(lista_dados):\n",
        "    # Calcula a média dos números, arredondando para 2 casas decimais\n",
        "    media = round(sum(lista_dados) / len(lista_dados),2)\n",
        "    # Retorna o valor da média\n",
        "    return media"
      ],
      "metadata": {
        "id": "JhryWC1T7ujs"
      },
      "execution_count": 144,
      "outputs": []
    },
    {
      "cell_type": "markdown",
      "source": [
        "##### Exemplo 01"
      ],
      "metadata": {
        "id": "PHT7CtIQVZh-"
      }
    },
    {
      "cell_type": "markdown",
      "source": [
        "Levando em conta as notas dos alunos na disciplina de\n",
        "instalações elétricas prediais da turma de 2019.2\n",
        "determine qual a média das notas da turma:\n",
        "\n",
        "* Notas da Turma de 2019.2: 2, 3, 4, 4, 5, 6, 7, 7, 7, 7, 8.\n",
        "\n",
        "![image.png](data:image/png;base64,iVBORw0KGgoAAAANSUhEUgAAAkwAAABMCAYAAACf++jqAAAS00lEQVR4nO3df3CTdZ4H8HfLHnJO6e5x7AxPZFcGawozlN01vTqr3BpaTXUAZQrFO6GAySgouLpc21wRWIcyxf7YsrdQpTqJ/NQVaQ9QDltttt4wzsA1wIpzNLHDgNCkjrhAm1HoTZ/v/dEESkn6pE3a5xv6fs08M9I2z/Px+31+fPJ8fyUJIQSIiIiIKKJkvQMgIiIikh0TJiIiIiINTJiIiIiINDBhIiIiItLAhImIiIhIAxMmIiIiIg1MmIiIiIg0MGEiIiIi0sCEiYiIiEgDEyYiIiIiDUyYiIiIiDQwYSIiIiLSwISJKNGo51Fvs8HpvaZ3JEREo8boS5hUP9wH67G/ahkMSUlICm6GZVXY7/IioHd8fah+Nw7Wv4uqZRk34kxKysCyqnq4/d16hzcgtb0eNkMSknKd8Kp6RzMA9TzqbRlISlokVQKiep3I7XN+3rKNmYIFzi69Q4xM9cN9cD+c9lwkJWXAVn8e+p8CKjpda2+55iNtBrsLnbrGegkue6ZmnElJmbC7LukaKTpdsBu0yzTJsBauTj3PgkSq/954A95m1DvtmH1LOS5D1f5meAP6X1Gj0ahKmFSvE7ljDMh84SDO/eJVeIWAED3o8tSh4Otq5OcswMtS3NyvwetchDGGTLxw8DJ+87obQggIcRWeunn4umgBMk1rUN8uadKknseBDb+H0693IFq60X6gEqudX+odyB2iG373bthz/hmFn1/GPy7agR5xGo68eyW40XSj41wbtE/JfGyyPYTUEYgoIvUSzp3yaf+d5UXYzBOHP54BqB3ncEqzUBVYNi2FOVXPsyCB6h/d8LtKMS/9GWz1PIjarp7e+3+PDy2bJ+Fw/mykzyuFS/IvzXci/e9jI24GrNs2Ys1jRqQAAJKRYpyPV9cvh4Iv4Vxdi+ZYvgmprXDmGuLzZkVZhW1lzyFLGRv8QSqMeWuwvtgE+OtR23A2puSu9y2GAbnO1jgmib1JSPHZiXgobvvsTSDj/RZIbf8IG4pPIv0hJX77jGuZmlDc9G0wWe6/7YPVOC6Gfce7TDvR6nwBpsw9GLP+MzSVP4enTEp8bjDxvKbM1WgJPYBu2S6jpXIOFOu/IDdt6OUav/q/G+bKY+gKV/ddx1BpNsG6IgdpQy7geNb/HFS2XA5Tpj3oaqmGWcnDitypQz8XEqb+41OmavtHWLfkNTRbNqF2cx6MKcGSS1ZgWlaCqso5QHMtyo/Edv+nwRtVCVOy0YqGsN94k5EyOQ0ZAOBvw7kOvTP3cTBa90H4tiHvnrH9fpeCyelTAfhx2uOTqgkRUBFw12DJauD1tQuDCamkAsdRvaQMeL0Ez0gdaCLoht+1BS/YjuOJurewKfseSW8sfwdLwRP4Vcrt0antLrxR3YGCxb/BPVIE/yAKnpwZ5hrqRnvjLlR7LFj86M/kKGdLHp781U9u/7l6AY1vOOEpyMOjt93H9JAI9X8NbQ1/htMPKL+cgkm3xZKK+x+YCQV+NL7/OdqYMY2oH+kdgHSUNEyZJMPFHUkAFz1nAZhQkDtT51fH/QRasL1wL6Zuq8P8e5vwtt7xRHQF7u0bUT11Lf5nfhoa5A00MXQexR+XvAaPtQ575svQ/BbOOBite9EQ9ndXcPI9J5wZL8KjcxMXACB5GqwNe8P/LnAK7239GBmbPtK5iatXstGKhrCFqiJwsh5bndOxyaN3ExeQUPVP0tL/ipOCisDFNpwGoBQ8ikwJbkThdcPvqkFphQ/mks14RaqLuzcJKcJivGiR5JtvWCoC7ndQWASseTFbkrcJiewavPu3o8JvkuDb+RB1nsC+6vMxNnGNBBWdxw+g2vN4bE1cI+JvOL5vLzwxNnGOCKnqfxzSZj0OCwD/8b/iq9s6d4f6Ys2QJN7RhcUNAIEWvFW6A35lFbb9dpYE34b664bf/V/YX/UcTEvOYk5jMz4sewyKNLV3MwmprHoWpjCvvKURaMH2whqgcgNWmsI0I0jlOjpOvAv7bMPNUTKz7XDKNJpTPYej7x8FFAtyH7gO98G3+8RrwGy7Ey6v/mOOIgsmfJgnTxNXJKoX+8t3ANI0cUWmeg+hvAIJkETLV//JxoX4D4cVSnMlCkv39hkR3Qlv/UassJ3B0urt2CTt29w7F8s79Gak+QFUfrgpTJ8hPYWGwt4FQ+Yc5Bftgj99EiZ834UumdquEyYJCb0FW4WqlZlS97FKNmThaesjyJj6MF5p8kEIgR7fMezIOgVbjhnzqo5LkTSpbZ/j/UY/kH4eO1+uwV/HP4L1f/FBiOvwHXsVP99tQ455rbwjOjs/h2PdUQlGcWlR0dm8C+saZ0kwikvLJTQ73kCjBKP4NElZ/6mYZn0T7qYVQMVSZBruCn4B+THSF+wAKh2o+d3DEn1hHj1GeZF3o71+HeYV/R9KmmqxRrqHfTJSs8vguzH9QRMcWadgm58J07M70SrFXByJkoQk0FswAEiZAatjGwrzTDdujMlKFpatL0WlGWgu2ojt7iv6xtinKRswYtnrr8GaHRp9OhZKlg2vbsoH/DVY/aejEsxt01+oOXEWnp41Re6bYfDtkt/yOGZJ3sTV+3bJB8vTD0neZCRr/XfDf/xt/PuSWqC4Dp4+0wocq34MnqIHYVwmy/1/lBGj1nXha3pNmDFDLHWcFl2D+myPuNpUIhRAYNBbvnB4fhh62D3nRJ11hgAUYa48FkXc34qmYtMQ4oSAxSE8PQOXQ1dLtTBjjqhsuXzrbzwOYbmxj+viYt0qcV9xk7g60O6uNoliZShlqgiL44wYMNSuY6LSfN/tZdZzRjgsyo166blYJ6z3lYimqwPtbTjLVMsPwuPIFwCEolWeQgxvmfaJJdL/143zQNEqUx2uqWDZRFWOtxjp+g+VjUkUN307uI8Oa/2HEywbzfruL4Hqf5jLtOdinbAqkc6V0Lk31PqhWIzShKlHdJ3ZIZYqQ0mWtHYdfADH/GCMeICbN5ZB35T67cnjEJZYLrwbyUZ0N4zBP5hCQg/moSabfR7s0WwxlGvMZapJO0kZ3H5iSeAHkTDFcpxhuaZ6k3glTLIfi2Gp/9CXJHO1aOmK117jUf+3633YR/tlLtqdJkr9x/OainQO9bn/D9szhiKR5y3kCFLbD+Dl7BJ8vcaBGusMiZuRwukzZ5TekqfB2uALO7Fij8cBCwBYHPD09P7MV56tU9+L4LxW4SYB7DkDh0UBkA+H54fen/nKkC1NfwaZjcWkKWmIatpP2abrCJzCe1vr4Y80h5A0QsPzv4s4h5A8gsPz/bMizCElEWnrPzRtTBROt+Eim+VGlMxX3/AILttx5Ilt2LMmq99FfQku+1z912caUJ9+IxlpmCz1DZSGRG2FMzdNY7ZoRYI+In2Sd62bt1TnanDyx2YDiu1PwihLWOEEJ39sVpbDvtAo9Q27d/LHw1CKV2JhTLPQDzeZ638QExNLdU2NDqOstINrhx15BNs2zu033FVFoPUwdu7u0Cu4PoKLb87eAndCzsPRtzOw5AI+eE7LuOjd92jcfQQn+9d/4Asc2n0UiHW5iThJNj4Je7EJ8H+BE1/179Z9DW1HP0ajbOeqehYNtfXwmxdjUdYEvaMZkNrWhFrndzCvmY8sqd96hmaonoM1ix6QexSf1PU/FoZf/BpmRJqHqRNfnfhC8vv/nWt0FXfnUfxpdQ38/hosmHxXv1Wqx2D89OXY5Z+K9MmSvExurkRh6YE+K1OH5uE4CnNJtcTzcATgO/dN7392X8DFbyQdUg4VAd8F9KbIV9F28Tu51mbqX/+BVtSXrkdRcwZK9pRgvhRTYEyE+ZXNKDGfQFFhBepvzLkk67kaGp6PBGjiCg7PRwI0cXV+Dse6DyIvkyIN2es/GSkmG94MNw+T6od752YUFp2Q7JoaPUZReYeGkOodRzQmIMtWhbq6Kszp+D3Sx4+5MQ+H+eAErGqSbeLKvi7BZc/GdJuzd2Xw5teQY1gS10Vz40NFp2sdjNOXY5cfABqxOeef8ERcFyIeouRpWL7jQxzoX//j83Hwp1Y0eT5AmUTrtSUrj2HTux/iQEEPtqb/WO5zNTQ8PxGauLyHUF7hToAmrpuzvcvXxNVPQtR/cB6mlrdQgD0352EaY0Lh/6bhJdmuqVFkFK0lF+z4a9U7jmgkI8VoRp4RQN4zKNypdzyDMRHZ5S0Q5XrHoSU0x1WZ3oGElayY8FSeKWHqP1kx4SmrCU9ZJa/44ECFRLgN9C4WngiRJtC9NWHqfywU01xYTXMh+yU1miQJIYTeQRARERHJjC/1iIiIaPio51Fvs+nXNSNOx2fCRERERDFRvU7k3jKQqs82ZgoWOLti2Hs32utXw5BkiDjdyvAev1eMCVNocdgIQSYlISkpU/J5jYiIiEhWavtH2LC6BnqP2Yqx07fcHWeJiIhopJhQ3PQxyrMnxm+X6nkc2PAHnE03AX7fyB+/DzbJERERkYSuwF29CquxEmufmap3MEyYiIiISDYqAu53UFg9Bds2PoV7x+gdTywJU8CLT6qW9fZfMtjgbO2zLILqx/Etvb8z2F3ov2ACERERUUSBFmwvrAHWLIVFilUNhpwwXYKrrBYX5m6F72oTiuHEundagonRFbirn8ODa3bBDxMKcmdGsa5QNJ3HI22LJJxFmoiISAKdLtgNQ3m2Rh6RFtl1dJx4F/bZhpv7mW2H0+UdeCHh21yBe/tGFGEVqlZmDmJZoHgdP7whJkwTkV32B1inpQKpM5FbYIJ/96do6byG9vp1mHd4Juo8VyFES5Sdr0KdxwXEoLd9sEq9bAAREZFOUrNR7hvKs9WHBuu0qJOEZEMWnrY+goypD+OVJh+EEOjxHcOOrFOw5Zgxr+p4lElLsCmuCKisehamKNf7i9/xByBi9oPwOPIFMF9UfrBNLL1vlai7eD323caRx+MRALhx48aNG7c7aisqKtL7ETuwrmOi0qwIYI6obLkc5d/fJ8yVx0TXjR+G8gxFWBxnRM9wHn8AcVhLbhzSZj0OC2wo+u0EOFxbkCdJe2PI3XffjaKiIr3DICIiiqsZM2boHcLAUmbiyYJZKGr+ANX7TuB5U/YA3XRuNsW1DNQUp55H/XPP49jivdqtWIM6/sDiuviuUrAYC6cNNZThM3nyZFRUVOgdBhER0ajlP3UOHSqQGqGVTfXWY23RYQCHkTl+Tdi/abRNxxgbAJhQvDi+x9cS+7QC6nkcKN+Cxj7BDGEn7PRNREQUbyPa6Ts2yUYrGsL2p/oBHkc+AAUWxxn0CDGIPtJxjC+mT6vtcK1bha3Tt6LFkQ80foyjbUNJXtjpm4iIKO5GotO32gpnbppGgqXA8vRDSBuO2R9H6PiD/6jaCufcDXBduQDXOiuWtOfjzZWzcP+UNCg4C8/FeAzeIyIiosTxPRp3H8HJQL+UJfAFDu0+Cih5WJE7tU/ScbNlSXu+xgAues7G+fiDN/jPBnzwnChFzj/8HDk77se2sn/FtJQfITXzURQobuze+99oVzvR6vw3rOWiu0RERKNDcyUKSw/AG0paAq2oL12PouYMlOwpwfwIA8I0u/MEOnCu4zoAoLvtAr6J9LdDPH60Bp0wqR3ncMoPwFyCuuaymyPiUjPx7CYr4FyAyZNfwkc/W4G1I9y+SERERCMseRqW7/gQB+qqMKfj90gfP6a3H9T4fBz8qRVNng9Qln1PxIRD+eUUTIr0y04X7MYM2HZ9CcCP5s0WGJ5wwts3aYrx+NFKEkKIGPdBRKOKioC3Gfsc1Xg/vQpHou3nEPDCtc+B0vfTUXvECiNXsiQaxa7B61yKdNv3qGzZg0LTT/QOSBNvWUQUvYAXn1Q9C2N6DmwVJ6L8UCe8n2zBMmM6cmwVaB7WAIkoIQS+wKHdZ7HU8TpWJkCyBDBhIqJoqH64d9oxe/xL+HTCr1FgVqL4UDf87t2wz34AKz79ezxSYBn2MIkoEXSjvfET/O2lPaixzhjEWnH6YsJERBpUBE4exL5vs1HbdQTl1oXIzTJofyxwCn/edxmP1p7AX8qfx8JcE6JJs4joTjcW9+S9irK8aQmTLAFxnumbiO5EyUgxrUS5aZAfS8nC78qzgv8YyenviIjij2+YiIiIiDQwYSIiIiLSwISJiIiISAMTJiIiIiINTJiIiIiINDBhIiIiItLAhImIiIhIAxMmIiIiIg1MmIiIiIg0MGEiokHoht99BA3HfQD8OP3ZETR5OzU/pfpb8J8NbvgB4PRnONTkRWC4QyUiiqMkIYTQOwgiklynC/ZpOajwD/A3Fgc8R6ww3vgadgku++PIqXAP8KF8ODy7YDWOi1+sRETDgAkTERERkQY2yRERERFpYMJEREREpIEJExEREZEGJkxEREREGpgwEREREWlgwkRERESkgQkTERERkQYmTEREREQamDARERERaWDCRERERKTh/wGWQ7dQ/rR3fwAAAABJRU5ErkJggg==)"
      ],
      "metadata": {
        "id": "ywIE969CVnL6"
      }
    },
    {
      "cell_type": "code",
      "source": [
        "# Exemplo 01\n",
        "# Exemplo de utilização da função calcular_media\n",
        "notas2019_2 = [2, 3, 4, 4, 5, 6, 7, 7, 7, 7, 8]\n",
        "media = calcular_media(notas2019_2)\n",
        "print(f\"A média das notas da turma de 2019.2 é: {media:.2f}\")"
      ],
      "metadata": {
        "colab": {
          "base_uri": "https://localhost:8080/"
        },
        "id": "BnTs25hpEk_g",
        "outputId": "07e7c4b0-aeeb-424f-b019-5bc7ba4ced44"
      },
      "execution_count": 145,
      "outputs": [
        {
          "output_type": "stream",
          "name": "stdout",
          "text": [
            "A média das notas da turma de 2019.2 é: 5.45\n"
          ]
        }
      ]
    },
    {
      "cell_type": "code",
      "source": [
        "# Exemplo 01 utilizando o pandas\n",
        "import pandas as pd\n",
        "notas2019_2 = [2, 3, 4, 4, 5, 6, 7, 7, 7, 7, 8]\n",
        "df = pd.DataFrame(notas2019_2)\n",
        "media = df.mean()\n",
        "print(f\"A média das notas da turma de 2019.2 é: {media[0]:.2f}\")"
      ],
      "metadata": {
        "id": "RPHV32c59eRu",
        "colab": {
          "base_uri": "https://localhost:8080/"
        },
        "outputId": "48c3fe04-899a-495a-94fb-cf7f20c8c2c3"
      },
      "execution_count": 146,
      "outputs": [
        {
          "output_type": "stream",
          "name": "stdout",
          "text": [
            "A média das notas da turma de 2019.2 é: 5.45\n"
          ]
        }
      ]
    },
    {
      "cell_type": "markdown",
      "source": [
        "##### Exemplo 02"
      ],
      "metadata": {
        "id": "b2leIEMxYyJu"
      }
    },
    {
      "cell_type": "markdown",
      "source": [
        "Levando em conta as notas dos alunos na disciplina de instalações elétricas prediais da turma de 2020.1 determine qual a média das notas da turma:\n",
        "\n",
        "Notas da Turma de 2020.1: 2, 3, 4, 4, 4, 5, 6, 7, 7, 8, 9, 10.\n",
        "\n",
        "![image.png](data:image/png;base64,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)"
      ],
      "metadata": {
        "id": "b68h4Sg7Y3Jw"
      }
    },
    {
      "cell_type": "code",
      "source": [
        "# Exemplo 02\n",
        "# Exemplo de utilização da função calcular_media\n",
        "notas2020_1 = [2, 3, 4, 4, 4, 5, 6, 7, 7, 8, 9, 10]\n",
        "media = calcular_media(notas2020_1)\n",
        "print(f\"A média das notas da turma de 2020.1 é: {media:.2f}\")"
      ],
      "metadata": {
        "colab": {
          "base_uri": "https://localhost:8080/"
        },
        "id": "5YxkFOvOaeL8",
        "outputId": "c2a97783-1c97-402e-a078-c44a90bdc2b9"
      },
      "execution_count": 147,
      "outputs": [
        {
          "output_type": "stream",
          "name": "stdout",
          "text": [
            "A média das notas da turma de 2020.1 é: 5.75\n"
          ]
        }
      ]
    },
    {
      "cell_type": "code",
      "source": [
        "# Exemplo 02 utilizando o pandas\n",
        "import pandas as pd\n",
        "notas2020_1 = [2, 3, 4, 4, 4, 5, 6, 7, 7, 8, 9, 10]\n",
        "df = pd.DataFrame(notas2020_1)\n",
        "media = df.mean()\n",
        "print(f\"A média das notas da turma de 2020.1 é: {media[0]:.2f}\")"
      ],
      "metadata": {
        "colab": {
          "base_uri": "https://localhost:8080/"
        },
        "id": "YwNI5v75Bihr",
        "outputId": "716784da-ce2c-4b36-8d79-40beab02095e"
      },
      "execution_count": 148,
      "outputs": [
        {
          "output_type": "stream",
          "name": "stdout",
          "text": [
            "A média das notas da turma de 2020.1 é: 5.75\n"
          ]
        }
      ]
    },
    {
      "cell_type": "markdown",
      "source": [
        "### Mediana"
      ],
      "metadata": {
        "id": "W9K11tqM8Ppj"
      }
    },
    {
      "cell_type": "markdown",
      "source": [
        "Para calcularmos a mediana é preciso ordenarmos os dados *x1,x2,x3,…,xn* A mediana de um conjunto de dados é:\n",
        "\n",
        "\n",
        "*   Se *n* é ímpar:\n",
        "\n",
        "![image.png](data:image/png;base64,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)\n",
        "*   Se *n* é par:\n",
        "\n",
        "![image.png](data:image/png;base64,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)"
      ],
      "metadata": {
        "id": "QnD8_eiN8fP3"
      }
    },
    {
      "cell_type": "markdown",
      "source": [
        "#### Função em Python"
      ],
      "metadata": {
        "id": "ezEDRrjk9YB0"
      }
    },
    {
      "cell_type": "code",
      "source": [
        "#Função para calcular Mediana\n",
        "def calcular_mediana(lista_dados):\n",
        "    # Obtém a quantidade de números lidos\n",
        "    numero = len(lista_dados)\n",
        "    # Ordena a lista de números\n",
        "    ordenado = sorted(lista_dados)\n",
        "    # Verifica se o número de elementos é ímpar ou par\n",
        "    # Se for ímpar, a mediana é o valor do meio\n",
        "    # Se for par, a mediana é a média dos dois valores do meio\n",
        "    if (numero%2==1):\n",
        "        mediana = ordenado[(numero+1)//2-1]\n",
        "    else:\n",
        "        mediana = (ordenado[numero//2-1]+ordenado[(numero//2)])/2\n",
        "        # Retorna o valor da mediana\n",
        "    return mediana"
      ],
      "metadata": {
        "id": "zbTCv_v99QUx"
      },
      "execution_count": 149,
      "outputs": []
    },
    {
      "cell_type": "markdown",
      "source": [
        "##### Exemplo 03"
      ],
      "metadata": {
        "id": "KkdqzKdYXUet"
      }
    },
    {
      "cell_type": "markdown",
      "source": [
        "Levando em conta as notas dos alunos na disciplina de instalações elétricas prediais da turma de 2019.2 determine qual a mediana das notas da turma:\n",
        "\n",
        "Notas da Turma de 2019.2: 2, 3, 4, 4, 5, 6, 7, 7, 7, 7, 8.\n",
        "\n",
        "![image.png](data:image/png;base64,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)"
      ],
      "metadata": {
        "id": "f4uIOhdaXd4U"
      }
    },
    {
      "cell_type": "code",
      "source": [
        "# Exemplo 03\n",
        "# Exemplo de utilização da função calcular_mediana\n",
        "notas2019_2 = [2, 3, 4, 4, 5, 6, 7, 7, 7, 7, 8]\n",
        "mediana = calcular_mediana(notas2019_2)\n",
        "print(f\"A mediana das notas da turma de 2019.2 é: {mediana:.2f}\")"
      ],
      "metadata": {
        "colab": {
          "base_uri": "https://localhost:8080/"
        },
        "id": "DJ1XKS0NXbWk",
        "outputId": "46a598e3-dd97-42a8-a507-890836b89b48"
      },
      "execution_count": 181,
      "outputs": [
        {
          "output_type": "stream",
          "name": "stdout",
          "text": [
            "A mediana das notas da turma de 2019.2 é: 6.00\n"
          ]
        }
      ]
    },
    {
      "cell_type": "code",
      "source": [
        "# Exemplo 03 utilizando o pandas\n",
        "import pandas as pd\n",
        "notas2019_2 = [2, 3, 4, 4, 5, 6, 7, 7, 7, 7, 8]\n",
        "df = pd.DataFrame(notas2019_2)\n",
        "mediana = df.median()\n",
        "print(f\"A mediana das notas da turma de 2019.2 é: {mediana[0]:.2f}\")"
      ],
      "metadata": {
        "colab": {
          "base_uri": "https://localhost:8080/"
        },
        "id": "_g3THrpHB17T",
        "outputId": "2474af52-03e5-4c9d-bb6d-b0e308651bba"
      },
      "execution_count": 151,
      "outputs": [
        {
          "output_type": "stream",
          "name": "stdout",
          "text": [
            "A mediana das notas da turma de 2019.2 é: 6.00\n"
          ]
        }
      ]
    },
    {
      "cell_type": "markdown",
      "source": [
        "#####Exemplo 04"
      ],
      "metadata": {
        "id": "CKKA45fCb_ye"
      }
    },
    {
      "cell_type": "markdown",
      "source": [
        "Levando em conta as notas dos alunos na disciplina de instalações elétricas prediais da turma de 2020.1 determine qual a mediana das notas da turma:\n",
        "\n",
        "Notas da Turma de 2020.1: 2, 3, 4, 4, 4, 5, 6, 7, 7, 8, 9, 10.\n",
        "\n",
        "![image.png](data:image/png;base64,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)"
      ],
      "metadata": {
        "id": "QeenvjdFeU3n"
      }
    },
    {
      "cell_type": "code",
      "source": [
        "# Exemplo 04\n",
        "# Exemplo de utilização da função calcular_mediana\n",
        "notas2020_1 = [2, 3, 4, 4, 4, 5, 6, 7, 7, 8, 9, 10]\n",
        "mediana = calcular_mediana(notas2020_1)\n",
        "print(f\"A mediana das notas da turma de 2020.1 é: {mediana:.2f}\")"
      ],
      "metadata": {
        "colab": {
          "base_uri": "https://localhost:8080/"
        },
        "id": "Fwjsgrk4e2Jv",
        "outputId": "d091b123-9291-459e-a901-2751e54e7508"
      },
      "execution_count": 152,
      "outputs": [
        {
          "output_type": "stream",
          "name": "stdout",
          "text": [
            "A mediana das notas da turma de 2020.1 é: 5.50\n"
          ]
        }
      ]
    },
    {
      "cell_type": "code",
      "source": [
        "# Exemplo 04 utilizando o pandas\n",
        "notas2020_1 = [2, 3, 4, 4, 4, 5, 6, 7, 7, 8, 9, 10]\n",
        "df = pd.DataFrame(notas2020_1)\n",
        "mediana = df.median()\n",
        "print(f\"A mediana das notas da turma de 2020.1 é: {mediana[0]:.2f}\")"
      ],
      "metadata": {
        "colab": {
          "base_uri": "https://localhost:8080/"
        },
        "id": "xrJXW1cmCGHe",
        "outputId": "d88b5876-c9a9-4389-ef3e-ae437a820530"
      },
      "execution_count": 153,
      "outputs": [
        {
          "output_type": "stream",
          "name": "stdout",
          "text": [
            "A mediana das notas da turma de 2020.1 é: 5.50\n"
          ]
        }
      ]
    },
    {
      "cell_type": "markdown",
      "source": [
        "### Moda"
      ],
      "metadata": {
        "id": "gJsxluUjfOn9"
      }
    },
    {
      "cell_type": "markdown",
      "source": [
        "Valor que ocorre com maior frequência. A moda é obtida por\n",
        "inspeção da tabela de distribuição de frequências. Ao contrário do que acontece com a mediana e a média, uma amostra pode possuir mais do que uma moda."
      ],
      "metadata": {
        "id": "6s7lqobDffWa"
      }
    },
    {
      "cell_type": "markdown",
      "source": [
        "#### Função em Python"
      ],
      "metadata": {
        "id": "3fNKiwsigDeG"
      }
    },
    {
      "cell_type": "code",
      "source": [
        "# Função para calcular a Moda\n",
        "def calcular_moda(lista_dados):\n",
        "    numero = len(lista_dados)\n",
        "    ordenado = sorted(lista_dados)\n",
        "    # Lista para armazenar as contagens de cada número\n",
        "    contagens = [0] * numero\n",
        "    # Loop para contar as ocorrências de cada número\n",
        "    for i in range(numero):\n",
        "        for j in range(i + 1, numero):\n",
        "            if ordenado[i] == ordenado[j]:\n",
        "                contagens[i] += 1\n",
        "    # Encontra o valor máximo da contagem\n",
        "    max_contagem = max(contagens)\n",
        "    # Lista para armazenar os valores da moda\n",
        "    moda = []\n",
        "    # Loop para adicionar os valores com contagem máxima à lista de moda\n",
        "    for i in range(numero):\n",
        "        if contagens[i] == max_contagem and ordenado[i] not in moda:\n",
        "            moda.append(ordenado[i])\n",
        "    return moda"
      ],
      "metadata": {
        "id": "-TBU8oBWgpT3"
      },
      "execution_count": 154,
      "outputs": []
    },
    {
      "cell_type": "markdown",
      "source": [
        "##### Exemplo 05\n"
      ],
      "metadata": {
        "id": "SD5EHjl4gjtB"
      }
    },
    {
      "cell_type": "markdown",
      "source": [
        "Levando em conta as notas dos alunos na disciplina de instalações elétricas prediais da turma de 2019.2 determine qual a moda das notas da turma:\n",
        "\n",
        "Notas da Turma de 2019.2: 2, 3, 4, 4, 5, 6, 7, 7, 7, 7, 8\n",
        "\n",
        "![image.png](data:image/png;base64,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)"
      ],
      "metadata": {
        "id": "ljGXrXSZg41z"
      }
    },
    {
      "cell_type": "code",
      "source": [
        "# Exemplo 05\n",
        "# Exemplo de utilização da função calcular_moda\n",
        "notas2019_2 = [2, 3, 4, 4, 5, 6, 7, 7, 7, 7, 8]\n",
        "moda = calcular_moda(notas2019_2)\n",
        "print(f\"A moda das notas da turma de 2019.2 é: {moda}\")"
      ],
      "metadata": {
        "id": "vXqgi4xkh0Jo",
        "colab": {
          "base_uri": "https://localhost:8080/"
        },
        "outputId": "43688bdf-bf81-40cf-ca85-4e2c1f93918a"
      },
      "execution_count": 155,
      "outputs": [
        {
          "output_type": "stream",
          "name": "stdout",
          "text": [
            "A moda das notas da turma de 2019.2 é: [7]\n"
          ]
        }
      ]
    },
    {
      "cell_type": "code",
      "source": [
        "# Exemplo 05 utilizando o pandas\n",
        "import pandas as pd\n",
        "notas2019_2 = [2, 3, 4, 4, 5, 6, 7, 7, 7, 7, 8]\n",
        "df = pd.DataFrame(notas2019_2)\n",
        "moda = df.mode()\n",
        "print(moda)"
      ],
      "metadata": {
        "colab": {
          "base_uri": "https://localhost:8080/"
        },
        "id": "mjusuPtiCQ_p",
        "outputId": "a8bdb984-dd07-44ce-84e7-ff654d5e1ba0"
      },
      "execution_count": 156,
      "outputs": [
        {
          "output_type": "stream",
          "name": "stdout",
          "text": [
            "   0\n",
            "0  7\n"
          ]
        }
      ]
    },
    {
      "cell_type": "markdown",
      "source": [
        "##### Exemplo 06"
      ],
      "metadata": {
        "id": "qfhJJ3t8ibwQ"
      }
    },
    {
      "cell_type": "markdown",
      "source": [
        "Levando em conta as notas dos alunos na disciplina de instalações elétricas prediais da turma de 2020.1 determine qual a moda das notas da turma:\n",
        "\n",
        "Notas da Turma de 2020.1: 2, 3, 4, 4, 4, 5, 6, 7, 7, 8, 9, 10.\n",
        "\n",
        "![image.png](data:image/png;base64,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)"
      ],
      "metadata": {
        "id": "qzbreS9Qigtu"
      }
    },
    {
      "cell_type": "code",
      "source": [
        "# Exemplo 06\n",
        "# Exemplo de utilização da função calcular_moda\n",
        "notas2020_1 = [2, 3, 4, 4, 4, 5, 6, 7, 7, 8, 9, 10]\n",
        "moda = calcular_moda(notas2020_1)\n",
        "print(f\"A moda das notas da turma de 2020.1 é: {moda}\")"
      ],
      "metadata": {
        "colab": {
          "base_uri": "https://localhost:8080/"
        },
        "id": "U4_pjeD6ixao",
        "outputId": "bb987eab-479b-4d7c-91e2-3dee2b07e8d8"
      },
      "execution_count": 157,
      "outputs": [
        {
          "output_type": "stream",
          "name": "stdout",
          "text": [
            "A moda das notas da turma de 2020.1 é: [4]\n"
          ]
        }
      ]
    },
    {
      "cell_type": "code",
      "source": [
        "# Exemplo 06 utilizando o pandas\n",
        "import pandas as pd\n",
        "notas2020_1 = [2, 3, 4, 4, 4, 5, 6, 7, 7, 8, 9, 10]\n",
        "df = pd.DataFrame(notas2020_1)\n",
        "moda = df.mode()\n",
        "print(moda)"
      ],
      "metadata": {
        "colab": {
          "base_uri": "https://localhost:8080/"
        },
        "id": "oN0UwhtFCk-C",
        "outputId": "3ebb427c-7dc5-4c27-bddc-98a8be46d906"
      },
      "execution_count": 158,
      "outputs": [
        {
          "output_type": "stream",
          "name": "stdout",
          "text": [
            "   0\n",
            "0  4\n"
          ]
        }
      ]
    },
    {
      "cell_type": "markdown",
      "source": [
        "##### Exemplo 07"
      ],
      "metadata": {
        "id": "LwoHQmFykFnT"
      }
    },
    {
      "cell_type": "markdown",
      "source": [
        "Determine a moda das medições dos níveis de ruídos aferidos:\n",
        "\n",
        "Nível de ruídos em decibels (dB): 79, 81, 79, 82, 82, 81, 84, 85, 85, 86, 82, 79\n",
        "\n",
        "![image.png](data:image/png;base64,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)"
      ],
      "metadata": {
        "id": "TWIjDfhfkKi1"
      }
    },
    {
      "cell_type": "code",
      "source": [
        "# Exemplo 07\n",
        "# Exemplo de utilização da função calcular_moda\n",
        "ruidos = [79, 81, 79, 82, 82, 81, 84, 85, 85, 86, 82, 79]\n",
        "moda = calcular_moda(ruidos)\n",
        "print(f\"A moda das medições dos níveis de ruídos é: {moda}\")"
      ],
      "metadata": {
        "colab": {
          "base_uri": "https://localhost:8080/"
        },
        "id": "uFo4AFQHkpy_",
        "outputId": "b8a371bd-9388-4aa0-80c2-206da024086d"
      },
      "execution_count": 159,
      "outputs": [
        {
          "output_type": "stream",
          "name": "stdout",
          "text": [
            "A moda das medições dos níveis de ruídos é: [79, 82]\n"
          ]
        }
      ]
    },
    {
      "cell_type": "code",
      "source": [
        "# Exemplo 07 utilizando o pandas\n",
        "import pandas as pd\n",
        "ruidos = [79, 81, 79, 82, 82, 81, 84, 85, 85, 86, 82, 79]\n",
        "df = pd.DataFrame(ruidos)\n",
        "moda = df.mode()\n",
        "print(moda)"
      ],
      "metadata": {
        "colab": {
          "base_uri": "https://localhost:8080/"
        },
        "id": "eLJPKJByCpun",
        "outputId": "0c06b560-fc83-45f3-a79f-940f38c35ad1"
      },
      "execution_count": 160,
      "outputs": [
        {
          "output_type": "stream",
          "name": "stdout",
          "text": [
            "    0\n",
            "0  79\n",
            "1  82\n"
          ]
        }
      ]
    },
    {
      "cell_type": "markdown",
      "source": [
        "### Quartil\n"
      ],
      "metadata": {
        "id": "9nt0hraOsfGR"
      }
    },
    {
      "cell_type": "markdown",
      "source": [
        "Dividindo os valores ordenados da variável em quatro quartos iguais, obtém-se um quartil para cada quarto definido desta forma:\n",
        "\n",
        "* O valor da amostra do primeiro quartil Q1 é maior do que\n",
        "25% dos valores menores e menor do que 75% dos demais valores maiores.\n",
        "\n",
        "* O valor da amostra do segundo quartil Q2 é maior do que\n",
        "50% dos valores menores e menor do que 50% dos demais valores maiores. O segundo quartil é também a mediana que divide a área da distribuição de frequências em duas partes iguais a 50%.\n",
        "\n",
        "* O valor da amostra do terceiro quartil Q3 é maior do que 75% dos valores menores e menor do que 25% dos demais valores maiores.\n",
        "\n",
        "* O intervalo interquartílico é definido como a diferença entre o terceiro e o primeiro quartil."
      ],
      "metadata": {
        "id": "xeFwTM0Usy4-"
      }
    },
    {
      "cell_type": "markdown",
      "source": [
        "#### Função em Python"
      ],
      "metadata": {
        "id": "IhlV3aois_i6"
      }
    },
    {
      "cell_type": "code",
      "source": [
        "# Função para calcular o Quartil\n",
        "def calcular_quartil(lista_dados, quartil):\n",
        "    # Obtém a quantidade de números lidos\n",
        "    indices = len(lista_dados)\n",
        "    # Calcula a posição inteira do quartil na lista ordenada\n",
        "    posicao_int = ((indices - 1) * quartil) // 4 + 1\n",
        "    # Calcula a posição com casas decimais do quartil na lista ordenada\n",
        "    posicao_float = (indices - 1) * quartil / 4 + 1\n",
        "    # Ordena a lista de números\n",
        "    ordenado = sorted(lista_dados)\n",
        "    # Calcula o valor do quartil usando a fórmula do quartil linear\n",
        "    valor = ordenado[posicao_int - 1] + ((ordenado[posicao_int] - ordenado[posicao_int - 1]) * (posicao_float - float(posicao_int)))\n",
        "    # Retorna o valor calculado do quartil\n",
        "    return valor"
      ],
      "metadata": {
        "id": "QEE5EDcVm0Ra"
      },
      "execution_count": 161,
      "outputs": []
    },
    {
      "cell_type": "markdown",
      "source": [
        "##### Exemplo 08"
      ],
      "metadata": {
        "id": "4fEqIF26kNCV"
      }
    },
    {
      "cell_type": "markdown",
      "source": [
        "Determine o primeiro, segundo, terceiro quartis e a amplitude interquartil das medições dos níveis de ruídos aferidos:\n",
        "\n",
        "Nível de ruídos em decibels (dB): 79, 81, 79, 82, 82, 81, 84, 85, 85, 86, 82, 79"
      ],
      "metadata": {
        "id": "6zeQl831kQ-N"
      }
    },
    {
      "cell_type": "code",
      "source": [
        "# Exemplo 08\n",
        "# Exemplo de utilização da função calcular_quartil\n",
        "ruidos = [79, 81, 79, 82, 82, 81, 84, 85, 85, 86, 82, 79]\n",
        "q1 = calcular_quartil(ruidos,   1)\n",
        "q2 = calcular_quartil(ruidos,   2)\n",
        "q3 = calcular_quartil(ruidos,   3)\n",
        "print(f\"O primeiro quartil das medições dos níveis de ruídos é: {q1:.2f}\")\n",
        "print(f\"O segundo quartil das medições dos níveis de ruídos é: {q2:.2f}\")\n",
        "print(f\"O terceiro das medições dos níveis de ruídos é: {q3:.2f}\")\n",
        "print(f\"A amplitude interquartil é: {q3 - q1:.2f}\")"
      ],
      "metadata": {
        "colab": {
          "base_uri": "https://localhost:8080/"
        },
        "id": "B5IUOVXBlDbA",
        "outputId": "a3ca5e3e-2870-4039-d460-35d266f6ca75"
      },
      "execution_count": 162,
      "outputs": [
        {
          "output_type": "stream",
          "name": "stdout",
          "text": [
            "O primeiro quartil das medições dos níveis de ruídos é: 80.50\n",
            "O segundo quartil das medições dos níveis de ruídos é: 82.00\n",
            "O terceiro das medições dos níveis de ruídos é: 84.25\n",
            "A amplitude interquartil é: 3.75\n"
          ]
        }
      ]
    },
    {
      "cell_type": "code",
      "source": [
        "# Exemplo 08 utilizando o pandas\n",
        "import pandas as pd\n",
        "ruidos = [79, 81, 79, 82, 82, 81, 84, 85, 85, 86, 82, 79]\n",
        "df = pd.DataFrame(ruidos)\n",
        "q1 = df.quantile(0.25)\n",
        "q2 = df.quantile(0.50)\n",
        "q3 = df.quantile(0.75)\n",
        "print(f\"O primeiro quartil das medições dos níveis de ruídos é: {q1[0]:.2f}\")\n",
        "print(f\"O segundo quartil das medições dos níveis de ruídos é: {q2[0]:.2f}\")\n",
        "print(f\"O terceiro das medições dos níveis de ruídos é: {q3[0]:.2f}\")\n",
        "print(f\"A amplitude interquartil é: {q3[0] - q1[0]:.2f}\")"
      ],
      "metadata": {
        "colab": {
          "base_uri": "https://localhost:8080/"
        },
        "id": "4VnBpzWJFe_5",
        "outputId": "56178c45-24de-43a4-bbd5-772b1320a59e"
      },
      "execution_count": 163,
      "outputs": [
        {
          "output_type": "stream",
          "name": "stdout",
          "text": [
            "O primeiro quartil das medições dos níveis de ruídos é: 80.50\n",
            "O segundo quartil das medições dos níveis de ruídos é: 82.00\n",
            "O terceiro das medições dos níveis de ruídos é: 84.25\n",
            "A amplitude interquartil é: 3.75\n"
          ]
        }
      ]
    },
    {
      "cell_type": "markdown",
      "source": [
        "### Percentil"
      ],
      "metadata": {
        "id": "V3ybq4iA-SHd"
      }
    },
    {
      "cell_type": "markdown",
      "source": [
        "Percentil, como podemos perceber pelo nome, tem a ver com “por cento”. O conjunto de dados será dividido em cem partes ordenadas da menor para a maior.\n",
        "\n",
        "Então, quando nos referirmos ao décimo percentil de um conjunto de dados, estaremos falando de 10% dos dados, por exemplo; quando nos referirmos ao vigésimo percentil, estaremos falando de 20% dos dados; e assim por diante. Lembre-se entretanto, que não é simplesmente 10 ou 20% dos dados, mas 10 ou 20% dos menores dados, pois os dados estarão ordenados do menor ao maior."
      ],
      "metadata": {
        "id": "YyKRhc8J-hoL"
      }
    },
    {
      "cell_type": "markdown",
      "source": [
        "#### Função em Python"
      ],
      "metadata": {
        "id": "JsQEXNd2-j1k"
      }
    },
    {
      "cell_type": "code",
      "source": [
        "# Função para calcular o Percentil\n",
        "def calcular_percentil(lista_dados, percentil):\n",
        "    # Obtém a quantidade de números lidos\n",
        "    indices = len(lista_dados)\n",
        "    # Calcula a posição inteira do percentil na lista ordenada\n",
        "    posicao_int = ((indices - 1) * percentil) // 100 + 1\n",
        "    # Calcula a posição com casas decimais do percentil na lista ordenada\n",
        "    posicao_float = (indices - 1) * percentil / 100 + 1\n",
        "    # Ordena a lista de números\n",
        "    ordenado = sorted(lista_dados)\n",
        "    # Calcula o valor do quartil usando a fórmula do percentil linear\n",
        "    valor = ordenado[posicao_int - 1] + ((ordenado[posicao_int] - ordenado[posicao_int - 1]) * (posicao_float - float(posicao_int)))\n",
        "    # Retorna o valor calculado do percentil\n",
        "    return valor"
      ],
      "metadata": {
        "id": "JUj90pJqE_gv"
      },
      "execution_count": 164,
      "outputs": []
    },
    {
      "cell_type": "markdown",
      "source": [
        "##### Exemplo 09"
      ],
      "metadata": {
        "id": "KahcMSUpansX"
      }
    },
    {
      "cell_type": "markdown",
      "source": [
        "Determine o décimo, trigésimo quarto e octagésimo percentis das medições dos níveis de ruídos aferidos:\n",
        "\n",
        "Nível de ruídos em decibels (dB): 79, 81, 79, 82, 82, 81, 84, 85, 85, 86, 82, 79"
      ],
      "metadata": {
        "id": "3vnnzmZ7odl3"
      }
    },
    {
      "cell_type": "code",
      "source": [
        "# Exemplo 09\n",
        "# Exemplo de utilização da função calcular_moda\n",
        "ruidos = [79, 81, 79, 82, 82, 81, 84, 85, 85, 86, 82, 79]\n",
        "p10 = calcular_percentil(ruidos,   10)\n",
        "p34 = calcular_percentil(ruidos,   34)\n",
        "p87 = calcular_percentil(ruidos,   87)\n",
        "print(f\"O 10º percentil das medições dos níveis de ruídos é: {p10:.2f}\")\n",
        "print(f\"O 34º percentil das medições dos níveis de ruídos é: {p34:.2f}\")\n",
        "print(f\"O 87º percentil das medições dos níveis de ruídos é: {p87:.2f}\")"
      ],
      "metadata": {
        "colab": {
          "base_uri": "https://localhost:8080/"
        },
        "id": "QcRlORAAaoGd",
        "outputId": "54569301-697d-4385-d153-0204e5a13154"
      },
      "execution_count": 165,
      "outputs": [
        {
          "output_type": "stream",
          "name": "stdout",
          "text": [
            "O 10º percentil das medições dos níveis de ruídos é: 79.00\n",
            "O 34º percentil das medições dos níveis de ruídos é: 81.00\n",
            "O 87º percentil das medições dos níveis de ruídos é: 85.00\n"
          ]
        }
      ]
    },
    {
      "cell_type": "code",
      "source": [
        "# Exemplo 09 utilizando o pandas\n",
        "import pandas as pd\n",
        "ruidos = [79, 81, 79, 82, 82, 81, 84, 85, 85, 86, 82, 79]\n",
        "df = pd.DataFrame(ruidos)\n",
        "p10= df.quantile(0.10)\n",
        "p34 = df.quantile(0.34)\n",
        "p87 = df.quantile(0.87)\n",
        "print(f\"O 10º percentil das medições dos níveis de ruídos é: {p10[0]:.2f}\")\n",
        "print(f\"O 34º percentil das medições dos níveis de ruídos é: {p34[0]:.2f}\")\n",
        "print(f\"O 87º percentil das medições dos níveis de ruídos é: {p87[0]:.2f}\")"
      ],
      "metadata": {
        "colab": {
          "base_uri": "https://localhost:8080/"
        },
        "id": "BI8HGjFXUVxp",
        "outputId": "a32affac-fcc9-4c8f-b29a-aedd40e14e92"
      },
      "execution_count": 166,
      "outputs": [
        {
          "output_type": "stream",
          "name": "stdout",
          "text": [
            "O 10º percentil das medições dos níveis de ruídos é: 79.00\n",
            "O 34º percentil das medições dos níveis de ruídos é: 81.00\n",
            "O 87º percentil das medições dos níveis de ruídos é: 85.00\n"
          ]
        }
      ]
    },
    {
      "cell_type": "markdown",
      "source": [
        "## Medidas de Dispersão"
      ],
      "metadata": {
        "id": "cPq__BOVkuQy"
      }
    },
    {
      "cell_type": "markdown",
      "source": [
        "A informação fornecida pelas Medidas de Posição em geral necessitam de ser complementas pelas Medidas de Dispersão.\n",
        "\n",
        "As Medidas de Dispersão servem para indicar o “quanto os\n",
        "dados se apresentam dispersos em torno da região central”.\n",
        "\n",
        "Portanto, caracterizam o grau de variação existente em um\n",
        "conjunto de valores.\n",
        "\n",
        "As Medidas de Dispersão que mais nos interessam são:\n",
        "* Amplitude\n",
        "* Variância\n",
        "* Desvio Padrão\n",
        "* Coeficiente de Variação"
      ],
      "metadata": {
        "id": "NMInS_hrk1iO"
      }
    },
    {
      "cell_type": "markdown",
      "source": [
        "### Amplitude"
      ],
      "metadata": {
        "id": "qUwDmfdind8n"
      }
    },
    {
      "cell_type": "markdown",
      "source": [
        "A amplitude é definida como a diferença entre o maior e o menor valores do conjunto de dados.\n",
        "Salvo aplicações de Controle de Qualidade, a amplitude não\n",
        "é muito utilizada como Medida de Dispersão."
      ],
      "metadata": {
        "id": "X41fPeuAni4L"
      }
    },
    {
      "cell_type": "markdown",
      "source": [
        "#### Função em Python"
      ],
      "metadata": {
        "id": "uDgd2ML2n5On"
      }
    },
    {
      "cell_type": "code",
      "source": [
        "# Função para calcular o valor Máximo\n",
        "def calcular_maximo(lista_dados):\n",
        "    # Obtém a quantidade de números lidos\n",
        "    numero = len(lista_dados)\n",
        "    # Ordena a lista de números\n",
        "    ordenado = sorted(lista_dados)\n",
        "    # O valor máximo é o último elemento da lista ordenada\n",
        "    maximo = ordenado[numero - 1]\n",
        "    # Retorna o valor máximo\n",
        "    return maximo\n",
        "\n",
        "# Função para calcular o valor Mínimo\n",
        "def calcular_minimo(lista_dados):\n",
        "    # Obtém a quantidade de números lidos\n",
        "    numero = len(lista_dados)\n",
        "    # Ordena a lista de números\n",
        "    ordenado = sorted(lista_dados)\n",
        "    # O valor mínimo é o primeiro elemento da lista ordenada\n",
        "    minimo = ordenado[0]\n",
        "    # Retorna o valor mínimo\n",
        "    return minimo\n",
        "\n",
        "# Função para calcular Amplitude Total\n",
        "def calcular_amplitude(lista_dados):\n",
        "    # Obtém a quantidade de números lidos\n",
        "    numero = len(lista_dados)\n",
        "    # Ordena a lista de números\n",
        "    ordenado = sorted(lista_dados)\n",
        "    # O valor mínimo é o primeiro elemento da lista ordenada\n",
        "    minimo = ordenado[0]\n",
        "    # O valor máximo é o último elemento da lista ordenada\n",
        "    maximo = ordenado[numero - 1]\n",
        "    # Calcula a amplitude como a diferença entre o valor máximo e mínimo\n",
        "    amplitude = maximo - minimo\n",
        "    # Retorna a amplitude\n",
        "    return amplitude"
      ],
      "metadata": {
        "id": "hmtCDTPFoIBX"
      },
      "execution_count": 167,
      "outputs": []
    },
    {
      "cell_type": "markdown",
      "source": [
        "##### Exemplo 10"
      ],
      "metadata": {
        "id": "EKcF1LNPoHHj"
      }
    },
    {
      "cell_type": "markdown",
      "source": [
        "Levando em conta as notas dos alunos na disciplina de instalações elétricas prediais da turma de 2019.2 determine qual o valor mínimo, valor máximo e a amplitude das notas da turma:\n",
        "\n",
        "Notas da Turma de 2019.2: 2, 3, 4, 4, 5, 6, 7, 7, 7, 7, 8"
      ],
      "metadata": {
        "id": "5IZS_wOKpPvy"
      }
    },
    {
      "cell_type": "code",
      "source": [
        "# Exemplo 10\n",
        "# Exemplo de utilização da função calcular_maximo, calcular_minimo e calcular_amplitude\n",
        "notas2019_2 = [2, 3, 4, 4, 5, 6, 7, 7, 7, 7, 8]\n",
        "maximo = calcular_maximo(notas2019_2)\n",
        "minimo = calcular_minimo(notas2019_2)\n",
        "amplitude = calcular_amplitude(notas2019_2)\n",
        "print(f\"A nota máxima da turma de 2019.1 é: {maximo:.2f}\")\n",
        "print(f\"A nota mínimo da turma de 2019.1 é: {minimo:.2f}\")\n",
        "print(f\"A amplitude total das notas da turma de 2019.1 é: {amplitude:.2f}\")"
      ],
      "metadata": {
        "colab": {
          "base_uri": "https://localhost:8080/"
        },
        "id": "40DdMwUdqR3D",
        "outputId": "82199c25-b32f-467d-bad5-1d6f005ea68c"
      },
      "execution_count": 168,
      "outputs": [
        {
          "output_type": "stream",
          "name": "stdout",
          "text": [
            "A nota máxima da turma de 2019.1 é: 8.00\n",
            "A nota mínimo da turma de 2019.1 é: 2.00\n",
            "A amplitude total das notas da turma de 2019.1 é: 6.00\n"
          ]
        }
      ]
    },
    {
      "cell_type": "code",
      "source": [
        "# Exemplo 10 utilizando o pandas\n",
        "import pandas as pd\n",
        "notas2019_2 = [2, 3, 4, 4, 5, 6, 7, 7, 7, 7, 8]\n",
        "df = pd.DataFrame(notas2019_2)\n",
        "maximo = df.max()\n",
        "minimo = df.min()\n",
        "amplitude = maximo - minimo\n",
        "print(f\"A nota máxima da turma de 2019.1 é: {maximo[0]:.2f}\")\n",
        "print(f\"A nota mínimo da turma de 2019.1 é: {minimo[0]:.2f}\")\n",
        "print(f\"A amplitude total das notas da turma de 2019.1 é: {amplitude[0]:.2f}\")"
      ],
      "metadata": {
        "colab": {
          "base_uri": "https://localhost:8080/"
        },
        "id": "wzIvDrco65bB",
        "outputId": "2f4132e8-419d-4b5a-9261-246a519bb0ab"
      },
      "execution_count": 169,
      "outputs": [
        {
          "output_type": "stream",
          "name": "stdout",
          "text": [
            "A nota máxima da turma de 2019.1 é: 8.00\n",
            "A nota mínimo da turma de 2019.1 é: 2.00\n",
            "A amplitude total das notas da turma de 2019.1 é: 6.00\n"
          ]
        }
      ]
    },
    {
      "cell_type": "markdown",
      "source": [
        "##### Exemplo 11\n"
      ],
      "metadata": {
        "id": "60NW6U7etFei"
      }
    },
    {
      "cell_type": "markdown",
      "source": [
        "Determine o valor mínimo, valor máximo e a amplitude das medições dos níveis de ruídos aferidos:\n",
        "\n",
        "Nível de ruídos em decibels (dB): 79, 81, 79, 82, 82, 81, 84, 85, 85, 86, 82, 79"
      ],
      "metadata": {
        "id": "lM4USyVF0gH6"
      }
    },
    {
      "cell_type": "code",
      "source": [
        "# Exemplo 11\n",
        "# Exemplo de utilização da função calcular_maximo, calcular_minimo e calcular_amplitude\n",
        "ruidos = [79, 81, 79, 82, 82, 81, 84, 85, 85, 86, 82, 79]\n",
        "maximo = calcular_maximo(ruidos)\n",
        "minimo = calcular_minimo(ruidos)\n",
        "amplitude = calcular_amplitude(ruidos)\n",
        "print(f\"O nível de ruído máximo aferido é: {maximo:.2f}\")\n",
        "print(f\"O nível de ruído mínimo aferido é: {minimo:.2f}\")\n",
        "print(f\"A amplitude total dos níveis de ruído aferidos é: {amplitude:.2f}\")"
      ],
      "metadata": {
        "colab": {
          "base_uri": "https://localhost:8080/"
        },
        "id": "CMjmnWgm0_P6",
        "outputId": "71412950-b2b6-4850-e005-b63e73e32645"
      },
      "execution_count": 170,
      "outputs": [
        {
          "output_type": "stream",
          "name": "stdout",
          "text": [
            "O nível de ruído máximo aferido é: 86.00\n",
            "O nível de ruído mínimo aferido é: 79.00\n",
            "A amplitude total dos níveis de ruído aferidos é: 7.00\n"
          ]
        }
      ]
    },
    {
      "cell_type": "code",
      "source": [
        "# Exemplo 11 utilizando o pandas\n",
        "import pandas as pd\n",
        "ruidos = [79, 81, 79, 82, 82, 81, 84, 85, 85, 86, 82, 79]\n",
        "df = pd.DataFrame(ruidos)\n",
        "maximo = df.max()\n",
        "minimo = df.min()\n",
        "amplitude = maximo - minimo\n",
        "print(f\"O nível de ruído máximo aferido é: {maximo[0]:.2f}\")\n",
        "print(f\"O nível de ruído mínimo aferido é: {minimo[0]:.2f}\")\n",
        "print(f\"A amplitude total dos níveis de ruído aferidos é: {amplitude[0]:.2f}\")"
      ],
      "metadata": {
        "colab": {
          "base_uri": "https://localhost:8080/"
        },
        "id": "rg7uOwC09Osn",
        "outputId": "c258112c-7bfd-4701-86bb-70fabf8fea14"
      },
      "execution_count": 171,
      "outputs": [
        {
          "output_type": "stream",
          "name": "stdout",
          "text": [
            "O nível de ruído máximo aferido é: 86.00\n",
            "O nível de ruído mínimo aferido é: 79.00\n",
            "A amplitude total dos níveis de ruído aferidos é: 7.00\n"
          ]
        }
      ]
    },
    {
      "cell_type": "markdown",
      "source": [
        "### Variância"
      ],
      "metadata": {
        "id": "U7yq7Z2N7ql8"
      }
    },
    {
      "cell_type": "markdown",
      "source": [
        "A variância é definida como a “média dos quadrados das diferenças entre os valores em relação a sua própria média.\n",
        "\n",
        "![image.png](data:image/png;base64,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)"
      ],
      "metadata": {
        "id": "BgGwvLs27zb6"
      }
    },
    {
      "cell_type": "markdown",
      "source": [
        "#### Função em Python"
      ],
      "metadata": {
        "id": "irYYV2W68c6k"
      }
    },
    {
      "cell_type": "code",
      "source": [
        "# Função para calcular a Variância\n",
        "def calcular_variancia(lista_dados):\n",
        "    # Calcula a média dos números\n",
        "    media = sum(lista_dados) / len(lista_dados)\n",
        "    # Inicializa a variância como zero\n",
        "    variancia = 0\n",
        "    # O laço servirá para realizar o somatório.\n",
        "    # Em cada parcela da  soma, calcula-se a diferença entre o número atual e a média,\n",
        "    # eleva ao quadrado e divide pelo número total de elementos\n",
        "    for i in range(len(lista_dados)):\n",
        "        variancia = variancia + (((lista_dados[i]-media)**2) / len(lista_dados))\n",
        "    # Retorna o valor da variância\n",
        "    return variancia"
      ],
      "metadata": {
        "id": "CRZ8Yjqqc_4H"
      },
      "execution_count": 172,
      "outputs": []
    },
    {
      "cell_type": "markdown",
      "source": [
        "##### Exemplo 12"
      ],
      "metadata": {
        "id": "AOQfyy3o8h40"
      }
    },
    {
      "cell_type": "markdown",
      "source": [
        "Levando em conta as notas dos alunos na disciplina de instalações elétricas prediais da turma de 2019.2, determine qual a variância das notas da turma:\n",
        "\n",
        "Notas da Turma de 2019.2: 2, 3, 4, 4, 5, 6, 7, 7, 7, 7, 8\n",
        "\n",
        "![image.png](data:image/png;base64,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)"
      ],
      "metadata": {
        "id": "uHt2NMIL8p0i"
      }
    },
    {
      "cell_type": "code",
      "source": [
        "# Exemplo 12\n",
        "# Exemplo de utilização da função calcular_variancia\n",
        "notas2019_2 = [2, 3, 4, 4, 5, 6, 7, 7, 7, 7, 8]\n",
        "variancia = calcular_variancia(notas2019_2)\n",
        "print(f\"A variância das notas da turma de 2019.1 é: {variancia:.2f}\")"
      ],
      "metadata": {
        "colab": {
          "base_uri": "https://localhost:8080/"
        },
        "id": "HLrmdhSBBvbm",
        "outputId": "bca70be1-e183-477c-b2b6-13205047009c"
      },
      "execution_count": 173,
      "outputs": [
        {
          "output_type": "stream",
          "name": "stdout",
          "text": [
            "A variância das notas da turma de 2019.1 é: 3.52\n"
          ]
        }
      ]
    },
    {
      "cell_type": "markdown",
      "source": [
        "### Desvio Padrão\n",
        "\n"
      ],
      "metadata": {
        "id": "N-P-xCNoJ1la"
      }
    },
    {
      "cell_type": "markdown",
      "source": [
        "Definimos desvio padrão como “a raiz quadrada positiva da\n",
        "variância\". O cálculo do desvio padrão é feito por meio da\n",
        "variância.\n",
        "\n",
        "O desvio padrão se expressa na mesma unidade da variável,\n",
        "sendo por isso, de maior interesse que a variância nas aplicações práticas.\n",
        "\n",
        "É mais realístico para efeito de comparação de dispersões.\n",
        "\n",
        "![image.png](data:image/png;base64,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)"
      ],
      "metadata": {
        "id": "U40xTZe4KDpk"
      }
    },
    {
      "cell_type": "markdown",
      "source": [
        "#### Função em Python"
      ],
      "metadata": {
        "id": "ojVhLzDGJ01j"
      }
    },
    {
      "cell_type": "code",
      "source": [
        "# Função para calcular o Desvio Padrão\n",
        "def calcular_desviopadrao(lista_dados):\n",
        "    # Calcula a média dos números\n",
        "    media = sum(lista_dados) / len(lista_dados)\n",
        "    # Inicializa a variância como zero\n",
        "    variancia = 0\n",
        "    # O laço servirá para realizar o somatório.\n",
        "    # Em cada parcela da  soma, calcula-se a diferença entre o número atual e a média,\n",
        "    # eleva ao quadrado e divide pelo número total de elementos\n",
        "    for i in range(len(lista_dados)):\n",
        "        variancia = variancia + (((lista_dados[i]-media)**2) / len(lista_dados))\n",
        "    # Retorna o valor da raiz quadrada da variância, ou seja, o desvio padrão\n",
        "    return variancia**0.5"
      ],
      "metadata": {
        "id": "grACGvNGr0iA"
      },
      "execution_count": 175,
      "outputs": []
    },
    {
      "cell_type": "markdown",
      "source": [
        "##### Exemplo 13"
      ],
      "metadata": {
        "id": "8z1QSHLrURmu"
      }
    },
    {
      "cell_type": "markdown",
      "source": [
        "Levando em conta as notas dos alunos na disciplina de instalações elétricas prediais da turma de 2019.2, determine qual o desvio padrão das notas da turma:\n",
        "\n",
        "Notas da Turma de 2019.2: 2, 3, 4, 4, 5, 6, 7, 7, 7, 7, 8\n",
        "\n",
        "![image.png](data:image/png;base64,iVBORw0KGgoAAAANSUhEUgAAApoAAAFACAYAAAAcQdwrAAAgAElEQVR4nOzdfXATV5ov/q9FLsnsOCybm61LC3LjIl6b3LKzSeTr1DLcHWEyclhChoIAuwHbjFQTmMBMMqxfYg8wmUBBjDzOJoEZmCkp5i0zvMiXQFiCEyvOLje38MrAhtQaaXwps7Elp2ASsPVLwLvq8/vDkm1svVstteTvp6qrEtzqc9T9dOvp0+eczhJCCBARERERJZgm1RUgIiIioszERJOIiIiIFMFEk4iIiIgUwUSTiIiIiBTBRJOIiIiIFMFEk4iIiIgUwUSTiIiIiBTBRJOIiIiIFMFEk4iIiIgUwUSTiIiIiBTBRJOIiIiIFMFEk4iIiIgUwUSTiIiIiBTBRJOIiIiIFMFEk4iIiIgUwUSTiIiIiBTBRJOIiIiIFMFEk4gmTr6KZpMJVtetVNeEiIhUhImmGsgedLzbjGMNFdBmZSHLv2grGnDM7oI31fUbRfZ04N3md9BQUThcz6ysQlQ0NKPDM5jq6oUl9zbDpM1CVqkVLjnVtQlDvopmUyGyslaoKnGTXVaUjorPO5YpOVhmHUh1FUOTPeh49xisNaXIyiqEqfkqUh8CMvrtdXec86EWbY0d/Smt63XYa4oi1jMrqwg19usprSn67ajRRt6nWdo62PtTGQXpdPyH6ut1taHZWoP5d+zHCjQca4PLm/ozitSJiWaKyS4rSqdoUfSjd9H9lz+DSwgI4cOA04ayf2/E8gXL8KIqfhRvwWVdgSnaIvzo3a/w1691QAgBIW7CaVuMf69ahiLdRjT3qjTZlK/i+Jafw+pJdUUiGUTvcTM2WD9LdUUyxCA8HQdQs+B/ofKTr/BfVzTBJy7BsvRBFVz8BtHX3YXIIbkc20xzMS0JNQpJvo7ui+7I6xlegEl/v/L1CUPu68bFiDtVgmFbOfTTUhkFaXT8MQiPfSsW5z+Ht5xPYO+Ab+j673PDsWMGTi2fj/zFW2FXeWMDpUbqr7UEoADGXa9i4/fykA0A0CA7bwl+tnkNJHwG64a9aJvInbd8GdZSbWJa8qT12LX9hyiWpvr/YRrylm7E5mod4GnG3jNXJpQUD7WaaVFqvZzA5Hooeau+cj/mJmybQ4l3olsd5d73sKX6AvLnSonbZkL3qQ7Vrdf8NxljlyMw5t0zgW0nep/247L1R9AVHcSUzR+jtf6H+L5OSsxFL5HnlL4RjsAP9x3LV3CYF0Ey/i1Kc+Pfr4k7/n8CvfkcBoId+4FzMOt1MK5dgNy4d3Aij/8imB1fBdmnPgw4GqGXlmJt6ez4YyFtjn9i9qnc+x42rX4FbYZt2LtjKfKy/XtOI0FXUYsG8yKgbS/qT0/s+k+ZiYlmimnyjDgTtIVFg+xZuSgEAE8XuvtSfad4D/KMRyDcu7B05tQxf8vGrPzZADy45HSr6lE/IMPbsRurNwCv1T3rT+RVytuOxtXbgddq8ZyqK5oOBuGxv44fmdqx0PYbbCuZqdKL3X+BoWwhHsseXzu5145fNfahbNVfY6YqKv8Eyp55JMg5NIjelv1odBqw6skH1LGfDUvxzGPTx/+7/DlafmWFs2wpnhx3HUuFdDj+t9B15vewegDp0RzMGFeXafiLxx+BBA9aDn+CLmaaNMZdqa4ARUHKRc4MNVwUQ/Gix3kFgA5lpY+k+BHPGF4H9lQewuxdNix5sBW/TXV9QrqBjj2vonF2Hf5lSS7OqLei6aH/LP5h9StwGm04uEQNj8mDuQd5xkM4E/RvN3Dhd1ZYC1+AM8WPogEAmjkwnjkU/G/ei/jdW++jcNt7KX4UPUSTZ8SZoDtVhvdCM96yPoxtzlQ/igbS6vgTTUDqrwoUggxvTxcuAZDKnkSRCi7gwQ3CY9+NrTvd0NfuwEuquigOJW9VWIUXDCppaQlKhrfjbVRWARtfKFFJ61U6uwXXsT3Y6dGpoDUoTv3ncaTx6gQfRSeDjP7242h0PjWxR9FJ8SXajxyCc4JdEZJCVcf/HuTOewoGAJ72f8Ufxg36CfQ1LVBJfUltGBJq5XXgN1ub4JHWY9dP5qng7nusQXg6/hHHGn4I3eorWNTShpPbvwdJNRE1kryZG34AXZBHU6rhdWBP5W7AvAXrdEEe96nKbfSdfwc187Ujo07n18CqptkR5G6cPXwWkAwoffw2Ot797aj6ajG/xgq7K/VjeEPzJ8pYrJ5H0aHILhyrbwJU8yg6NNl1AvU7kQY3H+o7/pq8Z/GGxQipzYzKrYdGzTDSD1fzq1hr6kR54x5sU+3TA0olxoQq+Vvi2h6H+eS2IH0iUykwJcfd0BYtwvKq/fDkz8B9Xw9gQE19c9ImeQu0uq5Hw7oiVfch1WiLsdL4XRTO/g5eanVDCAGf+xyaii/CtECPxQ3tqkg25a5PcLjFA+Rfxb4Xd+Nf7/0uNn/khhC34T73M/z3AyYs0Nepd4aE/k9g2XRWBaOiI5HR37Yfm1rmqWBUdCTX0Wb5FVpUMCo+IlUe/2mYY/w1OlrXAjvLUaS923/j9qfIX9YEmC3Y/dPvqKihgdSEYaE6g+ht3oTFVf+B2ta92Ki6JEmDaSXb4R6ehqkVluKLMC0pgu4H+3BZFXOppUvylkatrgCQXQCjZRcql+qGf1A0UjEqNm+FWQ+0Vb2KPR03UlvHUV1OgDxUvPYKjCWB2RymQio24WfblgOe3djw5lkVzE04VuCx/zysnJej7gu0vzXTY3gK81T+KHqoNdMNw8q5Kn+0q9bjPwhP+2/x8uq9QLUNzlHTG51r/B6cVU8gr0It139SHUEqclu4W18RehSIcsslMRDTZ33iZmutkACBmJflwuL8Jv5q+7qFzVggAEnozeeiqPc10Vqti6OeEDBYhNMXfj8MOBqFHouE2fHVnX9xWoRheBu3RY9tvXioulXcDLe5m62iWopnn0rCYOkUYas6cE6Y9Q+N32e+TmExSMPHxddjE8aHakXrzXBbU3KfRvKNcFqWCwBCirQ/hVB2n46qS6jvNRwHUqR9moJzyr9votqPd0j28Q/sG52obr0W20cVPf7B+PdNxOM9Vhodf4X3qa/HJoxSqFgJxF68x4cyHRNN1fCJgc4mUS7Fk2RG2rQ/cZlwQhGygJELcswX8zFbclqEYSIXrOEkLboLbew/6AGBhCbeJH1UQhTNMoH9OuF9GlHk5C627UzkxieGRHMi5ShyTg3d/EhBbpImQpHjH7i51DcKx0CitpqI4z/eUJIU7U1wtBtNl+OfyHMqVAyNuv4r9htD6Uw9LfOTnNx7HC+W1OLfN1qw21ig4se9wYya8zPVNHNgPOMOOqG4z2mBAQAMFjh9Q//mri9JUd8y/7ykwSa/9nXCYpAALIfF+c3Qv7m3o0Q1/bXUbCpm5OQiqunu1TZtmPcifvdWMzyh5oBUjcA0QX8MOQekevinCfLMCzEHqIqo9vgHpq+LwqUu9PDxOY2h5ivE5OF/PeLphbtwcGPxmIvhddhrnk79+4PDGtUvrjAXs1T9w0NxkS/DWpob4e0ykgr6wI266Yn0o6eqWPVPet6mRXXNM8hTS7WC8U963iatQc2zear+ERma9PwUpOp1eHZCb61SmpqPfwwv5FDVOUVqwYhIOf+7rU9/F7tefXrMtBsyvJdPYd+BvlRVbpTrsNcUIWv+6+hIy3nURg8SUTmvG85Lanwp+9doOXAaF8Yef++nOHHgLDDR1/oliCbvGdRU6wDPpzj/h7HDfW6h6+z7aFFbrMpXcGZvMzz6VVhRfF+qaxOW3NWKvdY/Qr9xCYpV3coeeKPNImxc8bi6R8Wr+vhPhfYv/wp6hJpHsx9/OP+pyq//lEoMiVTrP4s3N+yGx7Mby2bdPTI3YVYWsrKm4N6H12C/ZzbyZ6nkoU+bGZVbj8M1fLEJzKN2FvraRhXPo+aFu/uLof8c/Bw9X6h0ahvI8Lo/x9CtxU109fxRXe8OHnv8vZfRvHUzqtoKUXuwFktUMRXX/dC/tAO1+vOoqtyJ5uE5M9Uaq4FpgpAGj6L90wQhDR5F938Cy6ajoV9HqRpqP/4aZOtM+HWweTRlDzr27UBl1XmVnVOkJoyJlApMZZHqekTjPhSbGmCzNWBR38+Rf++U4XnU9O/eh/WtapuwfbTrsNeU4GGTFR4AaHsFC7SrYXXdSnXFxpDRb9+EvIfXYL8HAFqwY8H/xMKwj6uTRDMHa5pO4vjY43/vcrz750a0Oo9iu4reJ66Rvodt75zE8TIf3sr/U3XHamCaoHR4FO06gfqdHWnwKHrk7VDqexQ9Rlocf/88mo7foAwHR+bRnKJD5b/l4sdqO6dIVfiu85TyDwgxproe0dAgO0+PpXkAlj6Hyn2prk8s7kdJvQOiPtX1iCQwR+n2VFckKI2kw/eX6tLm+GskHb5v1OH7RpUfeP8AtnS4DGjyjDiTFhesNLq2ps3xnwpJ9zSMuqeh9lOK1CVLCCFSXQkiIiIiyjxs6CYiIqLJRb6KZpMpdV2oUl1+EjHRJCIioowju6wovWOA7ahlSg6WWQcmsPVB9DZvgDZLG3LaN2XLTx8ZmGjK6LfXQRvq4GZlISurSOXzUhIREZFayb3vYcuG3UiLsbwploGDgdQ9oIKIiIiSRYfq1vdRX3J/4jYpX8XxLb/ElXwd4HEnv/w0k4EtmkRERERKuIGOxvXYgHWoe252qiuTFphoEhEREUUkw9vxNiobc7Dr1e/jwSmprk96yKxE0+vCBw0VQ/0ztSZYL496/ZzsQfvrQ3/T1tgx9sV0RERERCF5HdhTuRvYWA6DKt6Clh4yKNG8Dvv2vfj86bfgvtmKalix6W2HP6G8gY7GH+KJjfvhgQ5lpY9E8d7baAYVhVpWTIopC4iIiGLWb0eNNp7f1tAjvEO7jb7z76BmvnZkO/NrYLW74I1pOzfQsedVVGE9GtYVxfD61USVn74yKNG8HyXbfwnjnGnAtEdQWqaD58CHcPTfQm/zJiw+9QhszpsQwhFlp9zAoCIBEfNyBEZVv56NiIgoRaaVoN4dz2+rG2eMc6JOXDTaYqw0fheFs7+Dl1rdEELA5z6HpuKLMC3QY3FDe5TJnv+ReRVgbvgBdFG+jz5x5ac5kZG+EU7LcgEsEeaju0T5Q+uFred2qit1B6fTKQBw4cKFCxcuGbVUVVWl+ic2vIFzwqyXBLBImB1fRbn+Q0JvPicGhv8xkGdIwmDpFD4ly09zGTi9EQDcg9x5T8EAE6p+ch8s9texVGX9Kf7kT/4EVVVVqa4GERFRQhUUFKS6CuFlP4Jnyuahqu0oGo+cx/O6kjDd6UYemTvCPTKXr6L5h8/j3KpDkZ+axlR++svQRHOEVLYKz85R3yGcNWsWdu7cmepqEBERTVqei93ok4FpIZ6Gy65m1FWdAnAKRfduDLpOi+lhTDEBgA7VqxJbfibIzK8mX8Xx+tfRgpGDGMdGOBiIiIgo0ZI6GGhiNHlGnAnaX/QbOC3LAUgwWDrhEyKGMSCTS+YlmnIv7JvW462H34LDshxoeR9nu+JJ+jgYiIiIKOGSMRhIvgxraW6ExFSCYeVc5CqRCaW6fBXJjK8nX4b16S2w3/gc9k1GrO5djl+vm4e/yMmFhCtw9kyKcV1EREQ07Gu0HDiNC94xqZ73U5w4cBaQlmJt6exRidDIk8zI82170eO8kuDyM1NmfD+vG87zW7Hgz/47FjT9BXZt/zvMyb4L04qeRJnUgQOH/gm9cj8uW/8edfbrqa4tERERJUObGZVbj8MVSPa8l9G8dTOq2gpRe7AWS0IMFI7Y7c7bh+6+2wCAwa7P8UWodeMsP5NkRKIp93XjogeAvha2tu0jI8ynFeEH24yAdRlmzfox3ntgLerYf4KIiCizaeZgTdNJHLc1YFHfz5F/75Shfp73Lse7f25Eq/MotpfMDJkESY/mYEaoP/bbUZNXCNP+zwB40LbDAO1CK1yjk80Jlp9JsoQQItWVICKaGBleVxuOWBpxOL8Bp6Ptx+V1wX7Egq2H87H3tBF5k+GqT0Qh3ILLWo5809cwOw6iUjc91RXKCLysElF687rwQcMPkJe/AKad56P8UD9cH7yOirx8LDDtRJuiFSSitOD9FCcOXEG55TWsY5KZMEw0iSg9yR507KvB/Ht/jA/v+yuU6aUoPjQIT8cB1Mx/HGs//Ba+W2ZQvJpElA4G0dvyAb788UHsNhbE8C5zioSJJhGlIRneC+/iyLUS7B04jXrjsygt1kb+mPcifn/kKzy59zw+qn8ez5bqEE16SkSZbipmLv0Zti+dwyQzwTL+zUBElIk0yNatQ70uxo9lF+On9cX+/0nmtM9ERJMTWzSJiIiISBFMNImIiIhIEUw0iYiIiEgRTDSJiIiISBFMNImIiIhIEUw0iYiIiEgRTDSJiIiISBFMNImIiIhIEUw0iYiIiEgRTDSJKM0NwtNxGmfa3QA8uPTxabS6+iN+SvY48L/PdMADAJc+xolWF7xKV5WIaJLJEkKIVFeCiChm/XbUzFmAnZ4w6xgscJ42Im/4lvo67DVPYcHOjjAfWg6Lcz+Mefckrq5ERJMUE00iIiIiUgQfnRMRERGRIphoEhEREZEimGgSERERkSKYaBIRERGRIphoEhEREZEimGgSERERkSKYaBIRERGRIphoEhEREZEimGgSERERkSKYaBIRERGRIphoEhEREZEimGgSERERkSKYaBIRERGRIphoEhEREZEimGgSERERkSKYaBIRERGRIphoEhEREZEimGgSERERkSKYaBIRERGRIphoEhEREZEimGgSERERkSKYaBIRERGRIphoEhEREZEimGgSERERkSKYaBIRERGRIpho0uTldcHe/A4aKgqRlZXlX0pRs68dHjnVlSPVYJxQQsnwutrQfKwBFdqskZiaX4N9HR4wpCh26o4pJpo0SXnRsWctFiyrxKmZjXD7BMTAJVjK3di5ZgnWNF1O+clJasA4oQT7zwvY8zfzsWz5B5h5sAc+4cNAZxPKnTuxpuhFNLlupbqGlG5UHlNMNGly01ehoW4BJA2A7P+BZysWQ4IHLR//G75Idd1IPRgnlFAS9OatqCuZCQ00yJ6zCBVlOgDn8fFn11JdOUpL6o0pJppK87pgP9aAitw62PszrO1DvopmkwnWVN0tjSv/Ouw1q1BjfQ8dnsEIH86GrvIjiI9+Cl32+NNAmjEd3054hcNgnCSx/DSOk6gNPUo71lCB3Bo7+lNdnQSTe5thetoKV4pOlfHlxxBTd+lQ2eXGR5XFyB73x+mYMf1bCa9vYjCmklt+BsWUIIXcFu5zu0S5JAl99X7hcN++468+t0Mctx0S5vICAcC/FIhy8+9Fq/Nmiuo8ns9pEYbh+gVblguL85s4t35b9NjWCwmSMFg6hS8R5fvcwtFULfQwiGpbpxiI6ct2C5uxQEBaL2w9tyOvnxDxxolt3LqppGicBI5LmG1kfpzEwOcW5xrLhQSDqG46J9zBTqzRq/fYhFGCgMEinBHWTZ5vhNOyPMzxnGB9I8ZUHOVPIKYCx0Ay2kSPao7BKIypyBhTITHRVMRt4W59RehRIMotl8YEx0iwSeWNomU4qbwpnLZaoQdU9QOmZAIxfDFKZKI59Ckx0Nk0lLyZz0V3cvp6RGutQQAGUdvaE7QuiRdtnOwS54aTyskWJ4GbkfDbyOw4iUGgfpJRWDqjuGEd/nGcTElBNDEVb/mxx5TP3SJq9ZKA/hXRqqKbx2GMqSgwpsJhoqmAoQQqVFD4gy1oknBNtFbrhpKL6lahhnbNoR9wnahuvZbgDXcLm3Gu0Ot1USSa8ZTvEwOORqFHgTDausMnBMPJQxTrjhO4eMSeSE08TkLvt2RTKk58PTZhfGiu0M+Vokg01RwnITbptAhDwo5j4MdukTA7vop6/Yf0ejFXrUmBVCtabya2UtHF1ETKjz6mhhOCBN40MqZCYUylCvtoJtx1tL25HVaswebni4L0l7gHecYjEO5dWDpz6pi/ZWNW/mwAgOdiN/oyrKveiBvoaFyPDViHuudmK1SGBtm6MmyuvhvWDXvRFqrfo9wL+yYjFuxwo9zyO7yx9MEkdVxORJx4cMnphjcp9U0BbzsaV28HXqvFc+N3UIKoPU5i0H8Wb27YDVRvxPO66RFWluHt2I3VG4DX6p4NEn8ZSkUxJXs+wKbnKrDDuRAW+/Yg57kKMKYiY0xFpLprZbqTXSdQv9MNw7Zy6KfFv3ulR3MwIyOPjgxvx9uobMzBrle/jwenKFnWfSgqNUDyNKH+mCvINDT9uNy0Bav9ycNuY0HSLo4TixMvepxXAOhQVvoIpilRwZS7gY49r6Jxdh1eXZILRcNExXESvVtwHduDnZ7l2GaaGzkmvA7sqTyE2buqsORBtQ4+STQVxZT3MzS9vNGfELwO4xw1nsWMqcgYU9HIyFQmdW6h6+z7aIEWj+bcH8fOnQQJhNeBPZW7gY3lMCh+t6XBtKInUSZ50HL4E3TdcWbK8HZY8CPTaeSbLaOSh0H0Nm+AtlTJ0YcTiZNBeOy7sXWnG/raHXhJf79CdUwl/81IFbDxhRLMVPwqpdY4iYHcjbOHzwJSLnJmRDqvhn4cq7AKLxgemCQ/AmqKqRvo2PMyTPsfhPnkL0cSAvkqmk1FKLWqZG5WxlQEjKloTY54SJbhE9OA0qL7Yv0wvB0HsHVnByRjHX6iqgTiNvrOv4Oa+do73jhgtbtifGwbuBitR8O6YI+LFSg/W4v8QgloeR9nu0ZNryO7cKTOjDZ40Fb1BO4dfuPL3Zi1bDc8M6bjXqXOjrjiZBCejn/EsYYfQrf6Cha1tOHk9u8NzeuoGgmKk8DNiHkL1kV8XJeg8tUYJzGQuz7B4RYPpLInURS2hXzkx9Hc8IOgUzapSy/OH67F/OH9rsX8Givsrhgn14k7piZQfoiYkl3NqKs6BeAUqor+bCRWp+RgmfUGZkz/tip+mBlTETCmoqb2iEgvXjeclzxAYS5mxXqyeR3YU2lGm74RJ99YkoS7o+hotMVYafwuCmd/By+1uiGEgM99Dk3FF2FaoMfihvYok4j4LkYTLl9zP3Ie1QK4AmfPqDU1c2A8M7S9oMu+pZCiqmEcYooTGf32Omiz7oa2aBGWV+2HJ38G7vt6AAOqaPYYkrg4ie9mJCPjJGoyvD1duAQJhfna8Pss7h/HZJsK7dxFMC4sxOzHX0KrEBDiNtyOehS3b8KC/OfQ0HEjym3FE1MJKD9ETGnyjDgTKp5EF/YtfSDK76UkxlR4jKmYJGvU0WQwPMVKrCPtAtNBqGQqgqgMnBNmvSQQ7WjEgXPCrH9ozAjrwIjtOEZIRl3+BMqISuyjzuOOE+ETA85WYak2+Kc9ahKdA6oZ0hlcTHESGFk5Zl1fp7AYwo86n3j5SsdJcIkZIRxt3b8SDvMiAX2jcIyKm/jjMRUCMYJx3yP8+omKqVjKZ0wxphJdfmpiaqJU0m42icm9sG96HstOF8Py65+iRIql3+J12GuKRprJY1km2rcs+xE8UzYPwCk0Hjkf4S0RUd79yVfRbCpFjf16gstPgH47arTB9uW3kG86CuAoTPnfCvJ3bQL7x2iQnVcC447fwGYsgGd/LX60xxFFS2GaxEmULSNybzNM0b5BKdlxElTo/T8l34QWeNBiehhTlNj/w6J9ojDU9zTim19Cng+RlomeDxpkP7YQZQYJaDuEI+1fhl894TEVY/mKYUwxptJIqjPdTBL7XdxN0WkxCinaiXBVZdTksxG+b+TJtEcv0c6FGG35mdSiObwFcbO1dmhyYAXmhEusWI9TlHES9fdWS5wEl7TWp+HWluj2r1rm8Q1q+LtE2m8KxVTM5TOmGFOJLp8tmhSVQfQ216HE9AU2jh4lloFC9x/5Bk7LcgASDJZO+ISAEA7Ul6hpIJQaaZA9KxeFqa5GQvnnDQ0WJ75OWAwSgOWwOL8Z+jf3dpRMYPqwSSdMX1Of0wIDABgscPqG/s1dX5IBs14wphTFmGJMRYl7IIE0M3LwqATgUhd6vOGby+Xe97Blw8dYaNuNjWOb3/vtqIn20aCS5MuwluZGeCwhwbByLnKViKSElB+YMireKacSL5Y4CS7QUR/xDTxLNMZJik3FjJxcSBk0gb/ssqI0awWsrlth1pqHlfNyFDlWiSmfMaUmjKnUSZd6pofA1AORyFdxfMvPcXrhL/DqkrFvGOnH5WOHcOBrheoYs6/RcuA0LoxNiLyf4sSBs4C0FGtLZ4/6DoG+Q0VR9LUMnDSJLH8M+Tq6L7oBzEb+LJVMsx1VnPj34/zX0TEuGR1EX3cXPCiAce0CZZK3mCkYJ4FR+gktfww1xknUJtLCPeqmRXXO4sCJT8ckOTK8F07jQIsHkvFvUZp7z6i/JTqmYi1/DMaUCsV4TAP9RrVRNPwwpkJSxU9UxtDkYN7KeYCnBWccoTr0yuhv24sN1s/gsS7DrCljOzb/KR42WeFRQ0tVQJsZlVuPwxX4EfdeRvPWzahqK0TtwVosCTrxuhsXu6+H76Dt7UN3320AwGDX5/gi1MpxlR8ow3/yG57CvHAncDJFFSd+Y787+uFqfhVrTWehr23EtnE3KimkSJzI8Lo/Rx8A4Ca6ev4Yet1Mi5MYaHLnYqVBgufAh3DE9CTEC3f3F0P/Ofg5er4YVKR+8fGgrWoztjZf9v8wy/C6jmNrpRlt+ldwcNvTIaaBS1RMxVu+H2Mqc2LK04XuvnDfgzEVltKdQCebQEfsO6fxGb1ClB2oVTIthM/tEMdth4S5vGBU/QpEufn3otUZrGv3NdFarYs8qOdmq6iWIn/n2Mu/49P+QTNKdpyOfTCQEFHEifCJAedHwjbuu0NI5WZxtNUZ4nOpoUycjBr0NLwEP5bqj5MQJSdk4IYQI3EY5XRjQoiRYzB6/8YxhZQibgu345SwHTWL8tHXCalcmI9+JJxBp4BJZEzFU36wchhTaR1Tgd+psIN6Mj+mJuCmwPsAACAASURBVIqJZsL5TzTVjwZWSCCRjmo+MqXr4p+fVNFjEV+iyTiZbHESouiEJQVi+EdR1aN7lcSYGiqaMZUwkRsEklmZ1MXURDHRVICvxyaMkkqCM6n8E8+qYrqmwCS4BcJo61bl3R/jhHGSWLdFj229kGJqgcoUjCllTOaYGpqMXh0vxkjvmGKiqYjbwt36itCjQJRbLk2eJMLXLWy124Qt4qNKxSsiBjqbRLnqkzjGSYorkiZxEgNfj2itNQioIuFKIsaUciZpTPl6jovaWlsUj7QVr0naxxQTTcXcFu5zu0S5VCDKzTbhSJdXS6Y7n1s4mqqFHgZRbetMg5OScZISaRcnMfC5xbnGciFJ5cJscwh3qn8nJwvGFCVahsRUlhBCKDXQiAB4XbC/fwL7Xv4SFee3cfJWRV2HveZFnMn/O6xYaIAuptd5phjjJInSOE6iJsPr+ie8f+JtvHytAuczYrJsNWNMUaJlTkwx0SQiIiIiRbDZhIiIiIgUwUSTiIiIiBTBRJOIiIiIFMFEk4iIiIgUwUSTiIiIiBTBRJOIiIiIFMFEk4iIiIgUwUSTiGLjdcHe/A4aKgqRlZXlX0pRs68dHjnVlaO0xJiiRGNMqQYTTSKKgRcde9ZiwbJKnJrZCLdPQAxcgqXcjZ1rlmBN02XwGk6xYUxRojGm1ISJJhHFTl+FhroFkDQAsv8Hnq1YDAketHz8b/gi1XWj9MSYokRjTKkCE01SJ68L9mMNqMitg70/mnvPQfQ2v4SnrWlwpypfRbPJBKvrlkrKl9Fv34LSmt/i3Q5PhP2XDV3lRxAf/RS67PGXD2nGdHxbgSpPnAyvqw3HGiqQW2NHf6qrk2iqi6nrsNesQo31PXR4BiN8mDGlRnJvM0xPW+FK1QV1UsZUZmKiSSozCE/7blTk6bH1X/4bfvLPr6Bkmj9M5cuwlmpH9bcZvdyNWcuO4D9SW/lhssuK0qD1zELWlBwssw5MYOuD6G3eAG2WFqUhEuvYytdgWskmNK24B59U/i8sqGmGyxvDr4v8OT48dBIeaT12/WQepk3gmylC9qD99R8gL38H/uXP1+Ofd5SEraPs6cC7zb9FzXwtsrQb0Nwb6UctORSNKfkqmk2FyMpaETJZja38+1GyowErpvwzKrWLUdN8Gd6Y6pOuMSWj314Hbaj9NGrRpjw5vQWXdUXI+k2ZtQzWiVxQGVPkx0STVGQQHvsOPPfEHmBbC07Wl0EnTU11pVRH7n0PWzbshiehW50KSVeG+pPHUdb3c+QvfgMd0SSbci/sm57HMqsWtQdrsWSmyo6X3Av7pjV4wnwXtnUeRX1F8dBjtKDretCxrwYLtHX45IaEFe90Q7h3YanavlPCDaL3uBkbrJ8ldrMaCbqKHTjZ+Rz6NpRgcUN7dIlBWsfUIPq6u6I4N5djm2luBic7jCkaRRAl1DfCaVkugOXC4vwmpk/6emzCKElCbz4nBoKu0CksBklI1a3iZkLqqhyf0yIM0Inq1msJ3nC3sBnnCr1eJwBJGCydwpfo8gfOCbNeEpLRJnqCbXy4kB7RWmsQQIEw2rqD1iNWQ/UO/b1ic1v02NYLCYuE2fFV+FUHLglLeYGA/hXR6r494ZKVoFRM+XpswvjQXKGfK4U9b+Mv3ycGHI1CH02cpH1M+a9/+kbhGAhW2lfCYV4U+dxKCn9dpVrRejOxlcn0mKLYsEWTVOI62t7cDivWYPPzRchOdXVU6QY6GtdjA9ah7rnZyhWTXYTnN68BrNvxZtv14OvIvbBvMmLBDjfKLb/DG0sfVN/jkf6zeHPDbqB6I57XTQ+9ntwL+/a/h+mD78J2sBYlk6kV3duOxtXbgddq8ZxiJ50G2boybK6+G9YNe9EWqs91xsTUf4GhbCEeC9I3UO6141eNfShb9deYqbovlyCMKRqD+5xUQXadQP1ONwzbyqGfxrAcT4a3421UNuZg16vfx4NTlCxLg2lFT6JM6sDO+hNBBgP043LTFqz2X7x3GwtUeGNwC65je7DTE+kRpYz+tt1YvcMN466qSfZI7QY69ryKxtl1eHVJLhQNKdyHolIDJE8T6o+5gvQrzpSYugd5xkM4Y5wT5Mf1Bi78zgpr4Qsw6e9XurIpwpii8fiLTipwC11n30cLtHg0534GZTBeB/ZU7gY2lsOQjGRo2iMoLdMBLe/jbNfojvwyvB0W/Mh0Gvlmy6iLt3+AUmkKR6mOJnfj7OGzgJSLnBlh9pfswrH6JnikxVj15AOTKPb8Ny5VwMYXSpLQuha4efGg5fAn6LojRjIspkLpP48jjVdhXLsAuRkZaIwpCi4jw53SzPAF3IDSovsir9/XjsM1pXe+7cFqj22kdFLcRt/5d4ZGLwfqOr8GVrsrttGS/laCKqxHw7pYuhVMpPxszMqfDeAsDp/tHmktkF04UmdGGzxoq3oC994x6n83PDOm414VXFXkrk9wuMUDqexJFIVpIR+93uP/3wW8a63BfFXHVYJiKnDjYt6CdeG6FSSy/Gwt8gul8TcvGRZTwflbQ6HGG5penD9cOyrutZhfY4XdFeOYeMYUhcBdTanndcN5yQMU5mJWkH5NwzRazF25AgsL8/D4SychhIDwueFoehTtpgXRj5ROAo22GCuN30Xh7O/gpVY3hBDwuc+hqfgiTAv00Y+WHNVKYG74QdA54ZQpfypm5ORCggeXnO6RdTVzYDwztL2gy76lkKKqoZJkeHu6cAkSCvO1YRLzQEu6hPy+fXjxH/4V9877GT7yx9W5xhk4YFoA/YvH0auCsEpcTMV34zLh8jX3I+dRLYArcPaMWjOjYiqE/k9g2XRWZV2DpkI7dxGMCwsx+/GX0CoEhLgNt6Mexe2bsCD/OTR03IhyW4wpCiN5445ocoh91PnQyEMIGCzCGdeQwKGRnECYEetq4R/RjWhGQg+v/9CY7xXYx3GMpI2h/Ikfl9glZoRwtPvnmmitHhq9r69tEe6xK/pnOYASswckUkwxFRitO2bd4e8a+2wR0Zc/gbidgOTGVLjPxrFvUyIQIwgzej7Y+pMnpig2arm1onTTb0eNNthEu99CvukogKMw5X8ryN9DTzIev+l47JmlMMCDtsbjaI/4JqHrsNcURZxQOegy0b492Y/gmbJ5AE6h8cj5CBM2R9lKIF9Fs6kUNfYQI8TjLl8poff/lHwTWuBBi+lhTFFi/48mX0f3RTcAYGruA/hvY6+GmhzMWzkPQAcOnPk0wr5Kk5iK8vGm3NsMU7Rv5WJMhdf/CSybjkKqXodn8+6J4XOhrrGRloleYzXIfmwhygwS0HYIR9q/DL96xsYUJcpdqa4ApalpJah3C9SP+8MtuKzlyDcBFud+GGO5sCaCpwvdfYPAtHDl3o+SegfE+MonlediN/pkINSTNNnVjLqqUwBOoejejUHXaTE9jCkmANChelViy1dO6P0vu6xYmL8JsNhxOujI3dSIvK/SIaZuwXWkAVVt/w9oewL3VgVb5yhM+UdhAgCpFjGGFGNqnEH0ftiMA55F2Lji8dgmaA95jU0mNy52X4eMUIM0MzmmKFF46IhUSpNnxJmgfYy+gdOyHIAEg6UTPiEghAP1JZk6ZYpChvt3RSY9moMZaX+1vAd5xiPB+6z5OmExSACWw+L8Zujf3NtHXv9K8fFexO/eaobHsBTPPBbLAJl0wZiiyHjEKeU0M3LwqATgUhd6Qg7m8b+XN9JjLsNTmJeb5FbUseTLsJbmRnh8JcGwcq4y05wkpPzA4Id0TLJCDGQaJzCyPtJ6cQ4ASaSMiCkvepxXgLScxizamBptEL0t+9HYpkV1zTPIU9kXHnrPeOj3kA+Zh5XzcpQ5VpM+piYPHhdKvcAUFdFoacaJC2NHQt7AhRPNaEGBiuao+xotB07jwtjE2fspThw4C0hLsbZ09qgTUEa/vQ7arCxoa+wR+iQFLq6JLH+swDubVZBkxUyD7Fm5KIy43j3Ie3YdqiXA0/6v+MPYfTU87VakfZUssR7TQL/Fosj9dwMzPyS0/DGG+8TORv6s9Iqo6GNqFPkKzuxthke/CiuKo5i2LSXO4sCJT8ckzjK8F07jQIsHkvFvUXrHjTtjimKX+msnUWDQhacFZxwROp7jFKoqd6J5eI63friad6Ky6jz0tY3YtkRFrxhrM6Ny6/GReRi9l9G8dTOq2gpRe7A25FtoAn2SQvL2obvvNgBgsOtzfBFq3TjL96/sT2YVbNFQkCZ3LlYaJHgOfAhHuMEH0+bhpYOvQB9sX9W+CFNLNPsqieI6poF+dqHI8Lo/Rx8A4Ca6ev4Yet2JxFQg8VDDU4c4RB1TAIbeOLUfm1oQ8nWU6uBBW9VmbG2+7E82ZXhdx7G10ow2/Ss4uO3pEBOvM6YoBskf6E6ZLb6pPAJTkISdnsjnFo7jNnHUXC4kQMC/SOVmcbTVqappjXxuhzhuOyTM5QXD9QQKRLn596LVeTPYJ8TN1lohAUKqbhXB1hBCCHGzVVRLGLXN4NMPxV5+iHKSOLWREImaikaIkTiMZsqf28LtOCks1Yb49lWSxH5MA9M3hZueaSTuRrYZfP9PLKYC5SR/GpqUxFRgah+pVrTeVOukO7eF23FK2I6aRfnoa4pULsxHPxLOoNMaMaYodkw0KcHinTPOfwFT9YVZSbEkRkq7LXps64WUgvkjE5cUiOFkOWzinskCyU5UcyEqXZduYTMWpOT8ZkwlEGOK4sBEk1TD12MTRikNJl1XwsA5YdbrRLnlUuq/u3+yZMloEz1pff0OJMxqSN6TzT+JtmQUls5Up0SBCb0LhNHWneYtT4wpxhTFSq0dR2gS0sx8GtsOrgWqTFhv/SzG94Gns0H0tnyAL398ELuNBakdeOP9DNb1JlShCiffWBKif1a6mIqZS2pxsPY/ULX472G9PImmfZY/R4vta/y47XUY58Q0e2OiKwLv5QNYv9gMmC14Y6mK+lDHhTHFmKJYZQkhRKorQTRiEJ723+LlJXuAjb/AT1Y9DZ2kkoEYGW0Qno7D+IfKX6C9eCf2bl6CPNUOYIiR7EH7Gy9jiRnYuOsnWLVEBylDvpqqyR50HPgHVK65iGLbG9i8dE6azV4QBmMqNTI5pjIYE01SJ68L9vdPYN/LX6Li/DZO8qsoGf32V7D8zAN4YcXTWKyTMrCFQIbX9U94/8TbePlaBc7Xl8T2lhaK0XXYa17Emfy/w4qFhgy9WWRMJddkiKnMxESTiIiIiBSReQ0XRERERKQKTDSJiIiISBFMNImIiIhIEUw0iYiIiEgRTDSJiIiISBFMNImIiIhIEUw0iYiIiEgRTDSJiIiISBFMNIkADL3low3NxxpQoc1CVpZ/mV+DfR0eyKmuHqUhxhQlWj9c9ndxrKEC2kA8ZWkxv+YAOjyDqa4cpSXlY4qJJhEA/OcF7Pmb+Vi2/APMPNgDn/BhoLMJ5c6dWFP0Ippct1JdQ0o3jClKsP/s+A3+ZsESLD81GwfdtyHETXRaFsK5sxxFaw7CxbsXilEyYoqJJtEwCXrzVtSVzIQGGmTPWYSKMh2A8/j4s2uprhylJcYUJdoimBteRIk0FcA0zHl2FcokAC3t+OyL/0x15SgtKRtTTDSTauhR2rGGCuTW2NGf6uokmNzbDNPT1pTdVY8v/zrsNatQY30v8iOAu3So7HLjo8piZI/743TMmP6thNc3Mfrhsh9GQ0UpauzXU12ZBBtEb/NLeNp6OWWPmcfFVL8dNaU1sL7bAU+kSjGmVCjVMRWk/Bhi6i5dJbrEe6jUTR//R+k+TP+2Sn/SvS7YjzWgIrcO9v5Ma3ZVW0zJ6LdvQWnNb/FuFF10khJTgpLD5xbnGsuFBIOobjon3L7AH66J1mqdABBh0Ynq1mup/AZCiG+E07I8fD0NFuH0Rd5SUL5uYTMWCGC5sDi/SUz5PrdwNFULPQyi2tYpBmKpTo9NGCUIyWgTPfF+JwX53GdFY3mBgL5aNDncYqSKaRRTvk5hMUhh6igJg6VTxB1S/mMYOi5jjymf+5xoqjYI6GuFzXkzrvqkXUzdbBXVUqR4goBUK1pvpviLpTqm4ig//pi6LXps64WEAmG0dcf9nZRzW7jP7RLlkiT01fuFw317zN99YsD5kbBZqoX+jjgqF+ajHwnngEq+kaIxFTiGYbYRc/m3hduxX1TrHxL6aluM+zHxMaXS258MI/fCvmkNnjDfhW2dR1FfUQwpsOfl6+i+6I68DcMLMOnvV7SaqTWI3uNmbLB+ltjNaiToKnbgZOdz6NtQgsUN7fBG8THZ8wE2rd4Aa/4rOLjtacxU2Zkiez7ApueWw4xKdJ7cgQqdNPJ4gjE1RL6K41t+DqsnsZvVSMWoqD+KzrIvsCH/OTR03IiuOmkcU3JfNy5G3I8SDNvKoZ+msi+WSKqKqUF47Duwelkz8msbsW3Jgyp7RDlUv+ee2ANsa8HJ+jLopKlj/r4Vi/Ofw1vOJ7B3wAchBITPDceOGTi1fD7yF2+FPcMHOcm972HLht1IbEhNhaQrQ/3J4yjr+znyF7+BDm807a0KxVQCktXJIXBHEXOLXeDuYJEwO74Ksd2HhN58Lnhr28A5YdbrVHK36m/9UaDVwtdjE8aH5gr9XClyi2Zc5fvEgKNR6KO4S/O5W0StXhKQ1gtbz9g78HgEWs1Cfa8YBVp+9Y3CEexONZ1iyn9eSdWtIra2wUiGzruH9HoxN2xL+0Ri6ivhMC+KKk7SPaZ8ToswhLqGBc6thH23CUp1TE2o/Ghj6rZwt74i9Ehg63jcv3EhNtdjE0ZJCnkdCt8y7N8PE2x9ThilYsrXLWzGuUKv14X/rhMpf+CcMOulKOJEgZjyU9cNUCbqP4s3N+wGqjfi+WB9IAAAT6DsmUeC9OMaRG/LfjQ6DVj15AMqu1tNIG87GldvB16rxXPjd0KCaJCtK8Pm6rth3bAXbSH6CQ216lRgh3MhLPbtWDpzatD1UkdGf9tebLDejerNZdBlh4qKyRxTMrwdu7F6A/Ba3bNB9kGiTIfu+Y2oxm5sePNsyD7XGRNThqV45rEg1zD5c7T8ygpn2VI8qbrvlihqiil/S+GCV+Asb4L9jSWqax0HrqPtze2wYg02P18UZH/dQteZ38PqAaRHczBjXP2n4S8efwQSPGg5/Am6Mq1bJwDgBjoa12MD1qHuudnKFZNdhOc3rwGs2/FmW6g+18rGlOrCM7PcguvYHuz0LMc201xMC7aKZg6MZw7BmHfP+L95L+J3b72Pwox+HHUDHXteRePsOry6JBdTFC3rPhSVGiB5mlB/zDW+k7T3MzS9vNGfELwO45ygRyy1ZBeO1TfBE+6x92SPKa8DeyoPYfauKix5UOEBN9MeQWmZDp6de3As2HRFGRJTmjwjzpwxIm9cyMjwXmjGW9aHQ1/jMoFqYkqG9/Lv8PJqf0KwuwxzQt5spo7sOoH6ne7M70oRNxnejrdR2ZiDXa9+Hw8q+sOnwbSiJ1EmdWBn/Ykgg3WVjylGgJLkbpw9fBaQcpEzI9Y7fRn97cfR6HwKa0tnZ+iB8p9sVcDGF0qScFceOOGC3SXfQMeel2Ha/yDMJ385khDIV9FsKkJpCkc+jyZ3fYLDLZ4QrQARPz0JYmroxqUKq/CCIRkttv6bF5zF4bPdY2JkMsTUl2g/cghO49+iNDfIjU1GUFFMeR3Y86Na7M9vxMlRCYHc2wyTdgWsqpib9Ra6zr6PFmjxaM79IfbXPcid9xQMADzt/4o/jOs/OIi+7i54UADj2gXIzbSLldeBPZW7gY3lMCTjKYD/5gUt7+Ns15gYSUJMZdrhU5XhC3jZkyiK9a7O38oAVT6O6sX5w7WYf8dbBKywu2KcsClwspm3YF3IbgUJLj9bi/xCadwJJ7uaUVd1CsApVBX92chbXKbkYJn1BmZM/7YKTpbABVyHstJHYm89UnNM9bXjcE3pyH7PKkWN1Q5XVB3YA0ZuXMwNPwjTrSCYeGNKg+xZuSgM8ohvMsTUUMsVULbqr9X3+DbVMRV3+aFi6hZcRxpQ1eYB2jai6N4pw9ueMmsZrJ77MP3eu2L4bgoZbmAxoLTovpCrafKexRsWI6Q2Myq3Hho1BV0/XM2vYq2pE+WNe9Q1yCkhMRW4cVmPhnXBuhUoUX42ZuXPBsbdvCQnplRz/DKPDG9PFy5BQmG+NsY+PTL62/ZjU8s8lT2Omgrt3EUwLizE7MdfQqsQEOI23I56FLdvwoIYRuDGd7IloHzN/ch5VAvgCpw9I+PPNXlGnBFiaNTjuKUL+5Y+EOX3UpIXPc4rAGYjf1asvcRUGlMaLeauXIGFhXl4/KWTI6NOmx5Fu2lBDKMlEeeNy8RjSjMjB49KAC51oWdUXTM/pq6jzfIrtKht9oJUx1QCyg8eU/cgz3gkRDwJCLEHSyUVJJpeN5yXPEBhLmaFTcynYY7x1+hoXQvsLEeR9m5/kvOnyF/WBJgt2P3T74zM0JJKCYupOG9cJlz+VMzIyYUEDy453aNmXklSTCVuXFGGi3lEXmBUaByj5hI8+k95gRHdCD0SOuj6Y0axDs8VFutI2ljKn8BxiVuCRgjHvX9EGsbUyKjTkKPng60/5vgPjZaOZ37XGGJqIsclbqmPqaF9q5JRwVFJdUzFUH4qYipB14jo98/oOTZHzfU4POc0hFTeJDrVMpdmUDHG1MA5YdaPnRFkIr9J0Zcff9xOnBruFVRERr+9btSL5UctUx6GqcUDtJiQPyXI37MS1T8m0PKkRXXNM0E634fRb0eNNljdIi3aCfYX0yD7sYUoM0hA2yEcaf8y/OpRthLIvc0wRfUmiRjLV0rI/f8t5JuOAjgKU/63FNj/kcQbU2HOh4jLRM+H6XjsmaUwwIO2xuNoDxsD0bYSDKK3eUOUb+ViTIXnb82U1qDm2bwYHo1N5piKpXylqOE3zl+T3vewackG7C/chr07liIvsI81Eop/+kscrNbBs78WLx4JMnAz2u+kqpiK8imefBXNpmjfyqWGmIqMieYdNJhWsh3uYE3Ivk5YDBJgsMDpC9bEfCT4KN9YyZ/jw0Mn4dGvwori0P1bgppWgnp3qCbwcIsbZ4xzEhQMblzsvh7mwhDoE/L/0Fb1BO4NdqHz/3hOmbUM1q8TXb6CQu7/b+C0LAewHBbnNwrv/yDijqkw50PEJUHnAwB4utDdF2bSZtmFI3VmtI3tC5mVhSn5JrQA/h/PuzFr2W7EHFKMqXHk3n/CoQNu6DcuQXFM/c8ZU1GVrxgV/MYBGJneSIJh5dwgg30CA6Kimd4oPWJquM/2mL6QIzeNHrSYHsaUKTlYZv1jwstPJSaaqhKYKuSPMJQtxGMqnLZi4sL0CQlc6Eb/eLq3o4TTY0zAJIgpzRwYz7iDxpTPaYEBuOPH011fop4+qmnpBi78zgqrZ16IuVozAGNKYYG+wVEY0/c5XYXusx24aZRgsHTCJwSEcKC+REX9nicoCb86MryuNjQfa0DF6EdA82uwL4oXvqevUJ1vw/BPfNwW8+Oo5JBdVpRGfNQwDyvn5ShS98SUH7jAhZt6Q6VCDGQKS9UxdQsu6wpklVqDzO02iuEpzFNo6pyExFRg8ENc05ilWBwxJffa8avGU5Cq1+HZhLVwJUqqYypB5adxTIUaHHenwCjoKH4fIw4qUlomxFRgcHKoCfKVpXxx/3kBe/5mPpYt/wAzD/bAJ3wY6GxCuXMn1hS9iCZVzPulhMAUFdGTu1qx1/rHOB5HJdNZHDjx6ZgLgwzvhdM40OKBNG4+veuw1xQhK6socp+TwMU1oeWPMfwe8HhG2aZa4OIcvbSIqZZmnLgwdmT3DVw40YyWYPPoBfotaiP13x25uIY3sZgafg94yn8Q4xFrTAUeeS7CxhWPq7cVL6aYGunjp43Y1zLKmIo1pseWks4xFZhCLqyp0P7lX0GPUPNo9uMP5z9V1zyaisVUlK27E4qpwLyk8cyCM3FJOnwS9OatqCuZCQ00yJ6zCBVlOgDn8fFn15JThRTQ5M7FSoMEz4EP4YjYSdffuR5qfxzlQVvVZmxtvuz/YZbhdR3H1koz2vSv4OC2p0PMpxepn5sMr/tz9AEAbqKr548h1o23fL9AMqtgK5lyApMcd+DAmU+jGHyQLjF1ClWVO9E8PGdlP1zNO1FZdR762sbQ8+hF7JPkhbv7i6H/HPwcPV+EWnciMTUyjVnwvmZqF2NM9X8Cy6ajoV9HqRrxxZTnYjf6wl6qo42pOGMaQNrHlCYH81bOAzwtOOMINYhOg2ydCb8ONo+m7EHHvh1R7qtkUiimvH3o7rsNABjs+hxfhFx3IjEVSGaVe+IYVrgh6cq5JlqrdQLQierWa6mpQqzimvohMG3BmGl8gm3eP/WAVN0qbk64skq5LdyOU8J21CzKJQjAv0jlwnz0o5HpKe4QzbH2iZuttULCqG0GneohnvKDlZPsKVkSNBWNECNxGMU0UmkRUz63cBy3iaPm8juOv1RuFkdbncGn67jZKqolCEi1ovVmqH0QiLvRMRVs/080pgLlJHNqIyFSE1OBMlV+3Y45pkauP+HPlShjKp6YDlpOkmMqgVOgBaa+ijzlz23hdpwUlmrDHdd+ffVvhC2qfZUkSsVU4Fo2OqaC7f+JxlSgnBRNb5eSRNPXYxNGCUIy2kSPmqfIGi3ek9B/gFX9Y6+kGBIj5evSLWzGgggJihISmBQMX8BU/mOvoOh/xJJQl8C1LOnnN2MqcaJvEEiGlMVUQufa9SfLSb/WqoWaYuq26LGtT+n5nfRE0+duEbV6SUD/imh130528SkQOMhqCLhk8096LRmFpTPVaXZgAu4CYbR1p8kE0yEEEmY1JO9JNzRBsTomcvZPliytF7aeNL+WTeaYGjgnzHqdKLdcSvmNSybF1FDCrI4bwqRTU0wNnBNmvZTShr2kJprDSWYGnEQx8fWI1lqDathVwgAAFsxJREFUgCoSriTydQtb7TZhc6b6O/vEQGfT0BsoMuSiFziX1JFwJY+v57iorbVF8UhbaTdFp8WYUTeQkzOmbose2zZRa+tUwXUh02LqtnC3viL0KFBHwpU0KoqpgUvCUp76G8ikJZojSeYkS7YCAq/VksqF2eYQ7slyHU81n1s4mqqFHgZRrYYTP4F87rOisbxASOVmYXO407uVNo343OdEU7VBQF+rgpuoxGJMpUbmxlTgNZMFotxsE45J8RRTDW4Lt2O/qNY/dOfrPVMkSwghFB9x5P0M1vV/B9MHxbDYX4dxjmonxVCYDK/rn/D+ibfx8rUKnOckvwq7DnvNiziT/3dYsdAAnZRe89FFpx8u+2mc2GfFtYpDGTXJryr121Gz/AzyX1iBhYt1kNQxHDbBGFNJNRliyuuC/f0T2Pfyl6g4v40v4VCUjH77K1h+5gG8sOJpLNZJKR+1H1eiKXs6cPL/OvGHd3egav9nwVcyWOA8bUSe5gY6GlajqAowOw6iMvBua/kqmn+4DHu/cxCnlXz9HhERERGlRIz53SA89l9ggbYIS5atCp1kjjL8fs+x74ydkoNl1huYMf3bUVZiZALUrJiXSG/+ICIiIqJEi6FFU4a34w0sLtqINhSg3PwL/GTV09BJgMe+A8+tvoJnjr+GF4tT30xLRERERCoQfXfOwCSywUbu+qdkSOPRck6nc8xEvFy4cOHChQsXLlxsNlvc+VX0jY/9n+LMgQ4g6OvspuOxZ5bCgFNo/JUdvZHetkhEREREGe+uaFeU+7px0QNAykXOjPGjdzUzcvCoBLScdsDpXYKZaTaqLC8vDyIJA/CJiIiIJovEZ4OeLnT3DSZ8sxwMRERERJReom7R1OTOxUqDhJYWfyI57Z47/h6pxXPiNJhWsh1usV2BbRMRERFRokXfoqnJwbyV8wB04v989gXu7IY5CM9n53EJEvQbl6A4zR6bExEREVHixZAR3oO8FVtgKQesG7bgjXaPP9kchKf9t6jbsBso34FfrysaM1CIiIiIiCaj2JoeswtgfLsFjl/PQ1+NDlOyspCVdTe0Nf+O7/7agY63KzAnm62ZRERERBTnKyiJiGiCvC7Yj1iw9XA+9p42Ii+qe3QZXlcbjlgacTi/ga/vJSLV4zWKiCip+uH64HVU5OVjgWkn2qL9mNeFDxp+gLz8BTDtPK9kBYmIEoaJJhFRUgzC03EANfMfx9oPv4Xvlhmi+5jsQce+Gsy/98f48L6/QpleUraaREQJxESTiCgZvBfx+yNf4cm95/FR/fN4tlSHyCmjDO+Fd3HkWgn2DpxGvfFZlBZrk1BZIqLEiHoeTSIimoDsYvy0vtj/P9G+p1eDbN061OuUqhQRkbLYoklEREREimCiSURERESKYKJJRERERIpgoklEREREimCiSURERESKYKJJRERERIpgoklEREREimCiSURERESKYKJJRERERIpgoklElGSyx4H/faYDHgC49DFOtLrgjfipQXg6TuNMuxuAB5c+Po1WV7/SVSUimpAsIYRIdSWIiDLfddhrnsKCnR1h1lkOi3M/jHn3jPxTvx01cxZgpyfMxwwWOE8bkcemAyJSGSaaRERERKQI3v8SERERkSKYaBIRERGRIphoEhEREZEiJm+iKV9Fs8kEq+tWqmtCRERElJFUmWjKng682/wOGioKkZWV5V8KUdHQjA7PYPTbcVlROvz5McuUHCyzDsRY/mHYOZ0IERERUVRUlmjegsu6AlO0RfjRu1/hr1/rgBACQtyE07YY/161DEW6jWjujT7ZjL/8L/CXP/s/Y8r/WyzQ1ylYPhEREVHmUFmi6Setx67tP0SxNNX/D9OQt3QjNlfrAE8z9p65AjnqjelQ3XrNnzCOXY7cOV/dHeWvx/fypgUpfzc2vHkWbNckIiIiCu+uVFfgTvcgz3gEwhjsb9mYlT8bQAcuOd3wYg6mBVstCeV7LnajTwamqTNNJyIiIlKFNEqVvOhxXgGgQ1npIwokmdGTHs3BjDTac0RERESpoLIWzVAG4bHvxtadbuhr9+El/f0pqIN6El0iIiKidBBDu9x12GuKgo/gjrSUWuGKvlPlKIPwdPwjjjX8ELrVV7CopQ0nt38PUkytibfRd/4d1MzXjtRnfg2sdhe8UW9DhrfjALbu7IBkrMNPUpLoEhEREaWXGFK2+1FS7wgxqCbCcsaIvJiSQxn99jpos+6GtmgRllfthyd/Bu77egADMSSsGm0xVhq/i8LZ38FLrW4IIeBzn0NT8UWYFuixuKE9umTT68CeSjPa9I04+cYSzORjcyIiIqKIsoQQItWVCE+G19WGI5Z6mHa2QCpvgn13GeZkTyDb87ajYfESVLU9DrPjICp108MUfxXNP3way648i9Z3alEyPBKeiIiIiMJJg7Y5DbLzSmDc8RvYjAXw7K/Fj/Y4YnjsHUT2I3imbB6AU2g8cj70VEVyL+ybnsey08Ww/PqnTDKJiIiIYpAGiaaf5gE8uWoxJHjQ1ngc7f1xdfocJzBV0Xj9uNy0BaubZsFifx3GORz+Q0RERBQLlQ8GurOq2bNyUTjRzURlEL3NdSgxfYGNJ3/JJJOIiIgoDiodDBSMDG9PFy4BQGEuZkXqoylfhrU0F6XWy2HeIiTBsHIucsdsSu59D1s2fIyFtt3YOLb/Zr8dNbl1sCeoRZWIiIgoU6ns0bm/1XT+6+jwjk3kBtHX3QUPCmBcu+DO5LDfjhptFrK0YxPAr9Fy4DQujN2W91OcOHAWkJZibensO3eCfBXHt/wcpxf+Aq8ueXDMDurH5WOHcODriX9TIiIiokynskTTr82Myq3H4RpOEPvhan4Va01noa9txLZxCaCfpwvdfYPht+W9jOatm1HVVojag7VYMnP0AB8Z/W17scH6GTzWZZg1ZWw3gD/FwyYrPNG0qBIRERFNcip7M9B9KDY1wPaEG1fe/Tny7102/Bep3Iw3W9vwVEkeskN9XMpFzgx/4qiZgzVNJ/Ff/68Tf7hjWwUoN29Cq3MhSvLG9L2UXThW3wRPor8WERER0SSUBvNoRia7rFiYvwmD5uM4WVkcOhElIiIioqRRWYtmPG7gwolmXCrfAfu6IiaZRERERCqR9omm3PsxbF8a0bZ7CfLYb5KIiIhINTLi0TkRERERqQ+bAImIiIhIEUw0iYiIiEgRTDSJiIiISBFMNImIiIhIEUw0iYiIiEgRTDSJiIiISBFMNImIiIhIEUw0iYiIiEgRTDSJiIiISBFMNImIiIhIEUw0iYjo/2/v/oOjrA88jn8SbxxxOK5D/YNnxTnG4RJwgMol4byCdUFMpFTDBKWdsVnsolXH3nVkSGIo9WxPBLIc155oz0p2QNDzVzKJlWKiSbGEDiQbwkFmwm45Dy/Jro4MQpJjgZvs9/7IL0h2kw3Jw27w/Zp5/kj2+3z3+zzP/vjs83y/3wcAbEHQBAAAgC0ImgAAALAFQRMAAAC2IGgCAADAFgRNAAAA2IKgCQAAAFsQNAEAAGALgiYAAABsQdAEAACALQiaAAAAsAVBEwAAALYgaAIAAMAWBE0AAADYgqAJAAAAWxA0AQAAYAuCJgAAAGxB0AQAAIAtCJoAAACwBUETAAAAtiBoAgAAwBYETQAAANiCoAkAAABbEDQBAABgC4ImAAAAbEHQBAAAgC0ImgAAALAFQRMAAAC2+ItENwAAJCkcDqu1tTXRzRiTtLS0RDcBAJIKQRNAUjhw4IBycnIS3YwxMcYkugkAkFQImgCSgs/nkySVlZUluCUAgPGSYvgJDiAJLFiwQE6nUyUlJYluCgBgnDAYCEDCBQIBNTQ0aOnSpYluCgBgHBE0ASRcc3OzJOmOO+5IcEsAAOOJoAkg4Q4dOqSsrCxNnz490U0BAIwjgiaAhAqHw/J4PHK5XIluCgBgnBE0ASSU3++XJM2fPz9hbYi0l2vN97wKRBLWBAC4LhE0ASTUsWPHJEmzZ8+O8uglhRp/r/L3tmq1I0UpKb2LY7W2ljcqFHcwvKCAd9XA+oOWG6avlPf/oq8ZCTWqsvxNbV0997J15mr11rdVG+i4mk2+xjoUqPWqaPEj8gYujH71roBqy19T0WJHfNvfUasiR/T9fMXiWK/ajuEOYO+x9xZpcUqKHGvK1c4PAWDCIWgCSKgDBw4oNzdXU6dOvfKByAl5c2bIkVmkyta/1+Y2I2OMTGeLyvI/V8HKTGU8bmf46AmnNzgy9VTlF/rWzw72PL85J3/ZA/qfgh/oXud6lbdfsqsBYxRRV6BKW1cvVPq9a1SyP0aSHq6G0Eda/4BT97703/q7V0/0bv9FBX2Fmrb3Gd2b/rDW17br8kMQ+fyUjoZGqtlS9gsuOadE/wqKhOq1q+gBOdZ9orPfXKU3u42CpXm6lW8sYMLhbQsgYc6cOaMdO3YoLy8vZhnL/Qu9+NOFsvo+rSbPUt7PilRoSSHvW6o6OYqzdFaxas519wamQUuVW2nRPhGtp7X9xad1X9qU3n9MUVreWv28MEMKvayf/Fudku28Zk9QW6a/fKJWU+/5rpxXVclnqtiwVpv2L1Lpq88pr3/7b5SV8Yh+vrVATlVr05YqnRwS9pfL4/sqyn7uVqdvm5xWnp7IuT3KF1BEXSd26UcZK7TzhnUK1myROzdj4NgDmHB4+wJImJaWFknSvHnzhj6YOkvuqmD0M1mTHUqfa0n6VP62Lptad5PS3O/IBLcr79YbBzdA09NvlySFjp7S50l1Sfesmt76QF8ufUmdf9gi90M5WmCNvpbIyRq96m2WrJmaMW3w9qdq8t98q6fe6g9VNzjsZ+fpwfnfiFJpq6pf8cqfn6elQ/apFAnV6MWnivXRsu3a88J9BEzgOsAtKAEkTFNTkyQpPT19dCt2BeU/HpKsR5WTOXXk8jay7pyhaUkViL6hjGd+qYwEPXtqmltVVdEeiairqVwveWfrBf+3NWXI46e1/1fF2uTPU9me73GZHLhO8FYGkl6MATFXLA7leE8oqU6sxeHjjz9WQUGBJk2aFP9KkXbVbt6iklC2ivc8HbOfn7261Ob/VFKG8nPmRQlNE1/qzG/r+9mWFDqmI38e2jmgry+m5f6BcmbeFEeNZ1T/zhvyxygfCbyvLSWNsmKc7QQwMRE0gWQWaVft+gfkyFyulQ8X6PURB1mMIN4RwdcgyLa1tamyslJ33XVXfCtEQmqsfFNbf3S/fth+v6r97+rFJbeO8kOsXUfeLtbiy7ZrcZF3lKPHI+pq3K1/LmmU5V6vf3TeEud6p1VblHkV+z5FKTkJmHopNU2rfr1JLmuvCtZt0q7GUO/xj6grUK7iJzbouGu7Kl6I7+xjT5CU8h/5TpTyF3Sy7kNVK0P5Oen638YP5C3KGdj+xUXy1gZkVycJADYyAJLUV8bnWW4kGVku4ynzmWC3Maa7zdQUZxvLtd0cDl5MdCOvWlVVlZFkWltbRyj5pakpzOjZD5KRLOMs/K2p8AVNd9zP1m06W3Yat9tjyvrXu2iCvtdNodMy0nLj8X0VX1Wdh43HaRk5txlfZ/wtSJhzNabQkpEeNqX+8KhX7w5Wm2Knddn+711Gtf29xzC71PijrdLdYkqzLSM5jcvlNoWlNcbfW3d3sM5sc80x0hzjLjs1imMOIBkQNIFk1R8QooSgiRZ2oti4caPJysoa5VrnjL+mtDcczjGu0uOmc0yt6Dadvm3GGW9w6j5lytxzjJzPm5qJEvLHEDT7Q56z2JT5z/X+96IJHt5uXJaMLLcpbTk3bB3GGNPtLzXZskx2aUv0oNjfxmxTXNM2pEzP+jKyik3NuYn5ege+rrh0DiSliDp8H2t3SNFH8E6epwfzF0n7vXqlujUp+2aGw2EFAoGYj1dUVGjFihWjrHWK0pa4tWnPdrmtZr2+5ln9e+PZMbQyVZPnL1N+tiXtf0Pv1J+JXTTSrtoNP9bKfQtU+ptntMS6zvsRRj5TxYYntfb12UOnN1rwlF7aUywr5NWan743wmX909pf+oqqrUdV9FBa1K4OA3Nv/pVmTv/mkDID/UWrVeUb5hgBSDoETSApXdLnp04qpFijmm/UtBkzZalZ+w7/V1L1XQuHwyovL9c999yj9PR0hcPhIWUCgYAaGhqUmZl5Vc+Reut39Eh+hqS92vbOkXGaxzKoo6dOxwjtHTqx8zn9cOd0ldb+q9yzrsfhP1fqn94o+34tGjJ4J1VTMpcqP9b0RpfX0/5HvbE7KOfaFVow5oFbwx0jAMmIoAlMcKOax9HmwUAHDx7UzTffrM2bN6uhoUGStG/fviHlmpubJemqg+bl81ja75Lay9dryZovtPZ3/zKGkDmRBgNF1NV2UsfjKjvcXKZn1fQfXnlDi5T/4DxNjlEqddoM3RnXXJ8O3TnjFr64gAmE9yuQlG7SzEX3K1uxguRIZzxjmLJEW4JR7ooz4hJUlXvWiB8Ys2fPVl1dnerr61VQUCBJ2rx585Byhw4din7bybj1TS9kaW66I2aA6RMJeJWTsmqEe30v0vcXzRiyjZH2D/TcTz7RsrKXtTZjUBeGjloVzRzpnt19btGSLb6r2PfD3LXINqmaPH2m5krS8ZNq6xpu+25X+vToRyDSXqtXtu2VVfikHkobZgqkuCfgj/1cAJITQRNIUv390o4fUXNo0P20I1+o+WCLpOVau+pvk2Yex6lTp2rhwoWSpMcee0yS1NDQoIMHD/aXCYfD8ng8Wrp06fCVddSqyOHQ4q31Q7sGRE7r1NGgNORWhhF11K6XIyVFjqLaQZfU67T7/WOD6oqoq2mfdleHos8HGflMFc/9k/Yt+4V+ueKvB31gdujEe29o9/nhN2NC6DvT7RgIzamOObrPGWsezYi6/vyfqh92Hs0LOln1lryhOF6jqWl6qOhRWQqq/sinQ4535OSf9HasYwQguV2zYUcARqlnSh6XpSunMuoOmsPbXMYal1HX9iooKDCSTG5ubv//mpqajCTT1NQ0/MqXjUQuLGsZ2M7OFlNWmB1jhHK3OVdTbCzpiql0+kctX1FXt+n0l/WMYI86ivyyuoZbYk3Zkwy6g8a3s7BnVL3mGJfnw/5pg64QdWT6wOtPzkKzM9q0UMONvu+rM9790ztt1+iOEYBkR9AEklx30GcqSvvCwtXOI5kYdXV1/YGsL1ju2rXLSDLnz58fYe1zxl9TYcre9fSEnf7tn2NcnrdMjT/atDoD4dAqrDEDJS6aoG/v0Losl/G8+4fo4at/bseJFjTjCciDphrqC4VRpg8a+vrrCZ6lZTH2mzHGmLDxlz5spAxTWPPlKJoeNL6K3/ZOXxXHMQKQ9FKMMcbmk6YAvsZWrFihyspKFRQUqKSkRI8//rgk6bXXXrPh2S4o4HUpfc15eXx7tG5wn0pEFQl4tSx9gy55KvS7dQtG7PMKAPGijyYAW/UNCvJ4PDp69Kh27Nihu+++254n6zqm93d/KlfpZj1JyIzTWTW9X67jrk36zZOZhEwA44qgCcBWCxcuVG5uriTp+eefl6T4728+KpfUXv2RzvzDHr3snkNgilOk/ROVnXFr/8v5mjWZrwQA44tL5wBsV15erpUrV/b/zccOAHw98PMVgO2WLVumrKwsSdLGjRsT3BoAwLVC0ARgu0mTJunZZ5+VNJa7AQEAJhounQO4JsLhsFpbW3Xbbbdp0qRJiW4OAOAaIGgCAADAFlw6BwAAgC0ImgAAALAFQRMAAAC2IGgCAADAFgRNAAAA2IKgCQAAAFsQNAEAAGALgiYAAABsQdAEAACALf4fhuj4NKaYPIsAAAAASUVORK5CYII=)"
      ],
      "metadata": {
        "id": "yykLSY8lVKDX"
      }
    },
    {
      "cell_type": "code",
      "source": [
        "# Exemplo 13\n",
        "# Exemplo de utilização da função calcular_desviopadrao\n",
        "notas2019_2 = [2, 3, 4, 4, 5, 6, 7, 7, 7, 7, 8]\n",
        "devpad = calcular_desviopadrao(notas2019_2)\n",
        "print(f\"O desvio padrão das notas da turma de 2019.1 é: {devpad:.3f}\")"
      ],
      "metadata": {
        "colab": {
          "base_uri": "https://localhost:8080/"
        },
        "id": "CXdpR84xUSD9",
        "outputId": "ef26669a-7a06-418d-a90b-335c68c634f1"
      },
      "execution_count": 176,
      "outputs": [
        {
          "output_type": "stream",
          "name": "stdout",
          "text": [
            "O desvio padrão das notas da turma de 2019.1 é: 1.876\n"
          ]
        }
      ]
    },
    {
      "cell_type": "markdown",
      "source": [
        "### Coeficiente de Variação\n"
      ],
      "metadata": {
        "id": "IAOLmTYNWw92"
      }
    },
    {
      "cell_type": "markdown",
      "source": [
        "O coeficiente de variação é definido como “o quociente entre\n",
        "o desvio padrão e a média”, sendo frequentemente expresso\n",
        "em porcentagem.\n",
        "\n",
        "A vantagem da utilização do CV é caracterizar a dispersão dos\n",
        "dados em termos relativos ao seu valor médio.\n",
        "\n",
        "Pequena dispersão absoluta pode ser, na verdade considerável, quando comparada com a ordem de grandeza\n",
        "dos valores da variável Quando consideramos o CV, enganos\n",
        "de interpretações desse tipo não ocorrem.\n",
        "\n",
        "Além disso, por ser adimensional, o CV fornece uma maneira\n",
        "de se compararem as dispersões de variáveis cujas medidas\n",
        "são irredutíveis.\n",
        "\n",
        "![image.png](data:image/png;base64,iVBORw0KGgoAAAANSUhEUgAAAIYAAABYCAYAAAAwTY/OAAAGoklEQVR4nO3cXWhTZxgH8H+CyBilF1KYp3XYSZletMOtpWziRfwgtTDBm1W0JpUWtkm9mdPUlE6cE0dNyVCqjo2UbhWH0xS1g62ZCR3Uj2qCsoo1mYwy2pwLi9g2F7aY8+wijU3jG6W1nvfEPj/ITUtOniT/nPOe93nPMRERgbE0ZtkFMGPiYDAhDgYT4mAwIQ4GE+JgMCEOBhPiYDAhDgYT4mAwIQ4GE+JgMCEOBhPiYDAhDgYT4mAwIQ4GE+JgMCEOBhPiYDAhDgYT4mAwIQ6GLJqK0MVOnG+pQb7JBJPwUYW2yGMp5S2S8qoLnKb+iabtNfi2R5VdSmbE9DXeRy6LQgBIsbvIG4xSnIjiUR85LaVkd/dSNC67SCIOhq7iNOp3kgIQLG4Kjsdn/G886CYLFLK4+mhcWo0JPMbQ1UMEu31QocBqq8T7Oakfvxk571fCZgV63D/DNzwprcpENUw/2ggGb0cB5GN1Yd6zH745D4Wr8wH1OvrCYxIKTClF6quzDKK4PTgCTWIFHAw9mQuxdutaZPziX7RH0REHQ1dvoGjtJlihov/KXahpydDUu7jSrwKWalSVL5FTYpLkwe8CNEoDnlpSUDzj1DQe7SW3vZig1JJnYFRuicSnq5JMUDTYRR6HlQBMPazk8HRRMDohuzgiIjIR8R112LN4jMGEjBGMWASBzh/RsC5/RhMpv6YF5y+GoGqAFmlDRVqTKb8hgOmzfQ1jgca0hlQZGgIjEt9YFpN7JJugaF8r2RWQYneTLzw16IoPkd+ZOP4qDj8l/pqcMgYh47TxBA156xNTzrCS0z9EBmg7ZCWJwZigqP8gWQBS7O00MJ72FY76yaEoZPUMTH+58QHyWBUCSsnhfyDcajzsIatB+g3ZTFrbXRv+DU07DqJHqYf3yDasykk7quXkY2XJO8CsJnoe4dalTvgs+xD8vAw581zzgiInjw/I7ygloJhqvYOz2N0nnyfeY8SHvFSrzHabTETKHkOLXELz0RCgOFG98e15GgGPoOf4Efxe+TVubllukFF19pLw+T3G/d4/4AOg2DaiLHcuJaT3GjTEQh34puNDtB76GAWz3uQIAg1lGZbXveBR0YaIzG7XK6L/HkMbRO/ZXgClsFW8h9xZPTkHy1auABBN22YEvzaeAPacgbVg8RyKysP65iCoeQ5PfU3pH4xYFOF+FVB2oqJsPhpFkxi+0IqmyXp0GXTAaTKZ5mU7pOMktc6HEg1jwcvoUAGUFGFZ+pnIXIz14vju67B9ZUPpfGyPAci6VeKLsbSwCArOoT8cRQxL8c8PbnRUNuKmJU92cRnp+UufL1n9E9MinWh0F85xwJmKB5/pjBeM2A20rKvOcKGNGTnLilACAE8GcK75JCb32Oc44Ew1NfhMzATP7tFdi3eN9ym+NJ3fkhm5ZRthUwD038dQLP2n9gih7w9hX3g5Cpc+/8tW3bvx6b/VaDHogDPr6T+nlmx0KWRxeCmc7JGMh8nnsicaYFYPhTNMXSZ6IXhuv8T4kjO4eOFjuomoL0lT4hMUDXrJZS+e+UEodnKd89KFqauzhEb95FBASq2Xhnje+5XhFVxM6DUcNrH5wMHQW+wO2mpKMqxEe4xIW5UxTodlH8sWpKlxkngl2vTAVLG3Up+kVeO8x5Ahdw3qDn8CAFi8JBdvpv4veTWaxY2uE7tQrrzsHM3ccDCkSLkiLRxF7OnfHyHk3ou6yc/gP1MvtffDwZDEXLQGW60K1I7LCI5pACahBo5hr/steE59gfWS9hRP65P66gtZ8gJn1Yfu4Ahi937B/h1X8dHpQ9i5anarVF6FLOuuvk6Sh5M6dPzUjCf//QUcbkfj+gJD/Fp5gkuqEQQaNmHD0Sgsrgvo2ltumL6PEcK5YGnqLVy+kVim+MzZiWQcDFlid9C+34lrH2yDXVHhO3sV9w20roODIYM2jMCRL9G0qBGnXU7U2EoB30l4eoxznS0HQ3djuNd+ADuubULXsS0oMC9BeVU1LAiho/tvyL0l2zQOhq4moQa+w64m4PCpuqkJrORtHFPnNOTjYOhGQyx0Ats3nMeK1gMz5yqe3sbRh+7gQ3klpuBg6EJD7F4H6jfvQY+y+TmXZYZwtPmSMRYXS2ndLShxGh9oJ7uSXKlWTHZPf0pHdZTCXufUfT+mOq5On/T7ifMEFxPiQwkT4mAwIQ4GE+JgMCEOBhPiYDAhDgYT4mAwIQ4GE+JgMCEOBhPiYDAhDgYT4mAwIQ4GE+JgMCEOBhP6Hzybw9FU49dRAAAAAElFTkSuQmCC)"
      ],
      "metadata": {
        "id": "5jE4gsYbYIBW"
      }
    },
    {
      "cell_type": "markdown",
      "source": [
        "#### Função em Python"
      ],
      "metadata": {
        "id": "_Bg06qa5ZX0x"
      }
    },
    {
      "cell_type": "code",
      "source": [
        "# Função para calcular o Coeficiente de Variação\n",
        "def calcular_coefvari(lista_dados):\n",
        "    # Calcula a média dos números\n",
        "    media = sum(lista_dados) / len(lista_dados)\n",
        "    # Inicializa a variância como zero\n",
        "    variancia = 0\n",
        "    # O laço servirá para realizar o somatório.\n",
        "    # Em cada parcela da  soma, calcula-se a diferença entre o número atual e a média,\n",
        "    # eleva ao quadrado e divide pelo número total de elementos\n",
        "    for i in range(len(lista_dados)):\n",
        "        variancia = variancia + (((lista_dados[i]-media)**2) / len(lista_dados))\n",
        "    # Calcula o desvio padrão (raiz quadrada da variância) e divide pela média\n",
        "    coeficiente_variacao = (variancia**0.5) / media\n",
        "    # Retorna o valor do coeficiente de variação\n",
        "    return coeficiente_variacao"
      ],
      "metadata": {
        "id": "yLVWjXUXs1ot"
      },
      "execution_count": 178,
      "outputs": []
    },
    {
      "cell_type": "markdown",
      "source": [
        "##### Exemplo 14"
      ],
      "metadata": {
        "id": "h5LZInbqbZDF"
      }
    },
    {
      "cell_type": "markdown",
      "source": [
        "Levando em conta as notas dos alunos na disciplina de instalações elétricas prediais da turma de 2019.2, determine qual o coeficiente de variação das notas da turma:\n",
        "\n",
        "Notas da Turma de 2019.2: 2, 3, 4, 4, 5, 6, 7, 7, 7, 7, 8\n",
        "\n",
        "![image.png](data:image/png;base64,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)"
      ],
      "metadata": {
        "id": "3d2XKXVFbiPm"
      }
    },
    {
      "cell_type": "code",
      "source": [
        "# Exemplo 14\n",
        "# Exemplo de utilização da função calcular_coefvari\n",
        "notas2019_2 = [2, 3, 4, 4, 5, 6, 7, 7, 7, 7, 8]\n",
        "cv = calcular_coefvari(notas2019_2)\n",
        "print(f\"O coeficiente de variação das notas da turma de 2019.1 é é: {cv:.3f}\")"
      ],
      "metadata": {
        "colab": {
          "base_uri": "https://localhost:8080/"
        },
        "id": "kGlzRuRPc88T",
        "outputId": "e6c66af5-b5fb-416e-a81b-f465916ed21d"
      },
      "execution_count": 179,
      "outputs": [
        {
          "output_type": "stream",
          "name": "stdout",
          "text": [
            "O coeficiente de variação das notas da turma de 2019.1 é é: 0.344\n"
          ]
        }
      ]
    }
  ]
}